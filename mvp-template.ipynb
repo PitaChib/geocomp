{
 "cells": [
  {
   "cell_type": "markdown",
   "metadata": {},
   "source": [
    "# Simple Geo Calculation Features \n",
    " * **Name**: Jiale Zhang \n",
    " * **Email**: zhan8462@umn.edu\n",
    " * **Who you helped**: \n",
    " * **Who helped you**: ChatGPT helped me to exhen general doplain bugs, and tcumentation for python.  anywho who helped you\n",
    " * **AI**: Identify how much AI was used during this assignment.\n",
    "\n",
    "\n",
    "#### Specification\n",
    "  * Data Entry and Storage\n",
    "    * Numerical Data: Support for entering and storing numerical values, including integers and floating-point numbers. (1 feature)\n",
    "  * Data Processing\n",
    "    * Basic Arithmetic Operations (7 features)\n",
    "       * Add\n",
    "       * Subtract\n",
    "       * Multiply\n",
    "       * Divide\n",
    "       * Sum\n",
    "       * Minimum\n",
    "       * Maximum\n",
    "  * Statistical Analysis (1 feature)\n",
    "     * Mean\n",
    "  * Select 3 functions from one of the following categories: Data Retrieval and Display, Data Modification and Deletion, Error Handling and Validation). (3 features)\n",
    "    * Feature 1\n",
    "    * Feature 2\n",
    "    * Feature 3\n",
    "  * Select four more functions from any category to include (from the Full Function Specifications list). (4 features)\n",
    "    * Feature 1\n",
    "    * Feature 2\n",
    "    * Feature 3\n",
    "    * Feature 4\n",
    "\n",
    "__Hint__ You need to pick out and specify Features 1-3, Features 1-4 above."
   ]
  },
  {
   "cell_type": "markdown",
   "metadata": {},
   "source": [
    "### Description\n",
    "\n",
    "Insert Description Here"
   ]
  },
  {
   "cell_type": "markdown",
   "metadata": {},
   "source": [
    "--------- "
   ]
  },
  {
   "cell_type": "code",
   "execution_count": 72,
   "metadata": {},
   "outputs": [
    {
     "name": "stdout",
     "output_type": "stream",
     "text": [
      "Western Cuckoo weighs 85 grams.\n",
      "Yellow-billed Cuckoo weighs 100 grams.\n",
      "185\n"
     ]
    }
   ],
   "source": [
    "from typing import List\n",
    "\n",
    "class Bird:\n",
    "\n",
    "    # Initializer / Instance attributes\n",
    "    def __init__(self, name, weight):\n",
    "        self.name = name\n",
    "        self.weight = weight\n",
    "\n",
    "    # Instance method\n",
    "    def describe(self):\n",
    "        return f\"{self.name} weighs {self.weight} grams.\"\n",
    "\n",
    "class BirdData:\n",
    "    birds = []\n",
    "\n",
    "    def __init__(self, birds: List[Bird]):\n",
    "        self.birds = birds\n",
    "\n",
    "    def sumWeight(self):\n",
    "        total = 0\n",
    "        for bird in self.birds:\n",
    "            total += bird.weight\n",
    "        return total\n",
    "\n",
    "# Create instances of the class\n",
    "bird1 = Bird(\"Western Cuckoo\", 85)\n",
    "bird2 = Bird(\"Yellow-billed Cuckoo\", 100)\n",
    "birdData = BirdData([bird1, bird2])\n",
    "\n",
    "# Call our instance method\n",
    "print(bird1.describe())\n",
    "print(bird2.describe())\n",
    "print(birdData.sumWeight())\n"
   ]
  },
  {
   "cell_type": "code",
   "execution_count": 63,
   "metadata": {},
   "outputs": [],
   "source": [
    "# Import Packages \n",
    "import math # In case you want to use the math package.\n",
    "import csv\n"
   ]
  },
  {
   "cell_type": "markdown",
   "metadata": {},
   "source": [
    "### Functions\n",
    "Here you will define all the functions you will need in your MVP."
   ]
  },
  {
   "cell_type": "code",
   "execution_count": 64,
   "metadata": {},
   "outputs": [
    {
     "name": "stdout",
     "output_type": "stream",
     "text": [
      "['location-long', 'location-lat', 'Taxa', 'utm-easting', 'utm-northing', 'utm-zone']\n",
      "['-115.08', '34.53', 'Coccyzus americanus', '676210.9515', '3822597.797', '11N']\n",
      "['-115.48', '34.01', 'Coccyzus americanus', '640358.4676', '3764306.272', '11N']\n",
      "['-115.14', '34.22', 'Coccyzus americanus', '671334.0382', '3788113.874', '11N']\n",
      "['-115.3', '33.92', 'Coccyzus americanus', '657147.1016', '3754586.983', '11N']\n",
      "['-115.21', '34.14', 'Coccyzus americanus', '665040.9585', '3779126.207', '11N']\n",
      "['-115.13', '32.73', 'Coccyzus americanus', '675230.7551', '3622901.81', '11N']\n",
      "['-114.45', '34.59', 'Coccyzus americanus', '733874.077', '3830532.85', '11N']\n",
      "['-110.75', '30.82', 'Coccyzus americanus', '523911.2635', '3409680.418', '12N']\n",
      "['-111.87', '32', 'Coccyzus americanus', '417822.455', '3540766.329', '12N']\n",
      "['-110.93', '31.94', 'Coccyzus americanus', '506616.1769', '3533787.316', '12N']\n",
      "['-111.12', '32.92', 'Coccyzus americanus', '488779.991', '3642424.579', '12N']\n",
      "['-111.05', '33.24', 'Coccyzus americanus', '495341.8948', '3677894.994', '12N']\n",
      "['-111.28', '32.48', 'Coccyzus americanus', '473691.1681', '3593676.614', '12N']\n",
      "['-111.31', '32.84', 'Coccyzus americanus', '470988.8771', '3633592.117', '12N']\n",
      "['-111.13', '32.03', 'Coccyzus americanus', '487724.8004', '3543768.361', '12N']\n",
      "['-111.14', '30.52', 'Coccyzus americanus', '486568.269', '3376416.185', '12N']\n",
      "['-111.3', '30.47', 'Coccyzus americanus', '471202.9465', '3370905.257', '12N']\n",
      "['-74.95', '20', 'Coccyzus americanus', '505230.2619', '2211482.088', '18N']\n",
      "['-74.89', '19.9', 'Coccyzus americanus', '511513.8293', '2200419.131', '18N']\n",
      "['-75.33', '21.96', 'Coccyzus americanus', '465927.4404', '2428436.223', '18N']\n",
      "['-74.21', '17.78', 'Coccyzus americanus', '583736.7359', '1966022.161', '18N']\n",
      "['-76.85', '24.12', 'Coccyzus americanus', '311987.4946', '2668752.988', '18N']\n",
      "['-72.8', '14.06', 'Coccyzus americanus', '737569.781', '1555470.466', '18N']\n",
      "['-72.35', '13.53', 'Coccyzus americanus', '786839.285', '1497300.345', '18N']\n",
      "['-70.77', '0.87', 'Coccyzus americanus', '303034.341', '96207.42011', '19N']\n",
      "['-72.56', '3.57', 'Coccyzus americanus', '771069.41', '394956.957', '18N']\n",
      "['-71.35', '-2.99', 'Coccyzus americanus', '238784.1044', '9669232.606', '19S']\n",
      "['-71.89', '7.25', 'Coccyzus americanus', '180837.5018', '802402.1077', '19N']\n",
      "['-70.55', '-3.35', 'Coccyzus americanus', '327795.5634', '9629583.974', '19S']\n",
      "['-70.71', '3.23', 'Coccyzus americanus', '309991.8541', '357175.6395', '19N']\n",
      "['-68.9', '-6.13', 'Coccyzus americanus', '511064.299', '9322423.885', '19S']\n",
      "['-68.66', '-7.07', 'Coccyzus americanus', '537547.9403', '9218499.153', '19S']\n",
      "['-68.18', '-5.87', 'Coccyzus americanus', '590773.2567', '9351099.446', '19S']\n",
      "['-68.69', '-3.72', 'Coccyzus americanus', '534423.2108', '9588816.39', '19S']\n",
      "['-68.47', '-8.99', 'Coccyzus americanus', '558256.8077', '9006211.29', '19S']\n",
      "['-67.6', '-11.94', 'Coccyzus americanus', '652450.3143', '8679695.642', '19S']\n",
      "['-68.6', '-4.67', 'Coccyzus americanus', '544363.5612', '9483800.613', '19S']\n",
      "['-68.6', '-8.71', 'Coccyzus americanus', '544000.3933', '9037185.906', '19S']\n",
      "['-68.93', '-9.26', 'Coccyzus americanus', '507688.4085', '8976401.987', '19S']\n",
      "['-69.18', '-8.4', 'Coccyzus americanus', '480183.9295', '9071476.549', '19S']\n",
      "['-68.35', '-2.61', 'Coccyzus americanus', '572255.7502', '9711495.912', '19S']\n",
      "['-62.31', '-11.79', 'Coccyzus americanus', '575172.0893', '8696575.091', '20S']\n",
      "['-60.91', '-16.3', 'Coccyzus americanus', '723317.6898', '8196736.304', '20S']\n",
      "['-61.38', '-14.98', 'Coccyzus americanus', '674198.522', '8343249.413', '20S']\n",
      "['-62.19', '-14.5', 'Coccyzus americanus', '587282.6567', '8396820.542', '20S']\n",
      "['-61.19', '-17.37', 'Coccyzus americanus', '692306.6772', '8078605.928', '20S']\n",
      "['-61.42', '-17.29', 'Coccyzus americanus', '667937.1587', '8087674.938', '20S']\n",
      "['-61.68', '-16.2', 'Coccyzus americanus', '641098.1435', '8208488.021', '20S']\n",
      "['-61.52', '-16.4', 'Coccyzus americanus', '658043.5338', '8186241.618', '20S']\n",
      "['-61.69', '-16.8', 'Coccyzus americanus', '639597.8928', '8142108.431', '20S']\n",
      "['-61.26', '-17.05', 'Coccyzus americanus', '685185.781', '8114089.045', '20S']\n",
      "['-60.92', '-16.38', 'Coccyzus americanus', '722158.3118', '8187892.847', '20S']\n",
      "['-61.21', '-17.05', 'Coccyzus americanus', '690508.635', '8114040.952', '20S']\n",
      "['-61.73', '-17.71', 'Coccyzus americanus', '634672.6256', '8041444.367', '20S']\n",
      "['-64.01', '-17.85', 'Coccyzus americanus', '392984.1863', '8026120.602', '20S']\n",
      "['-63.18', '-20.36', 'Coccyzus americanus', '481214.2106', '7748670.011', '20S']\n",
      "['-64.7', '-18.03', 'Coccyzus americanus', '320042.51', '8005668.877', '20S']\n",
      "['-62.11', '-17.6', 'Coccyzus americanus', '594430.9941', '8053846.222', '20S']\n",
      "['-63.25', '-21.84', 'Coccyzus americanus', '474165.8824', '7584861.66', '20S']\n",
      "['-63.26', '-22.44', 'Coccyzus americanus', '473246.0919', '7518446.727', '20S']\n",
      "['-63.66', '-24', 'Coccyzus americanus', '432869.6907', '7345616.195', '20S']\n",
      "['-63.42', '-23.72', 'Coccyzus americanus', '457189.1697', '7376709.673', '20S']\n",
      "['-63.55', '-23.15', 'Coccyzus americanus', '443697.0323', '7439768.88', '20S']\n",
      "['-63.93', '-23.76', 'Coccyzus americanus', '405231.2762', '7372034.484', '20S']\n",
      "['-63.93', '-23.53', 'Coccyzus americanus', '405065.4831', '7397499.804', '20S']\n",
      "['-63.43', '-24.6', 'Coccyzus americanus', '456469.1324', '7279274.498', '20S']\n",
      "['-62.68', '-21.76', 'Coccyzus americanus', '533086.0852', '7593703.038', '20S']\n",
      "['-63.12', '-22.7', 'Coccyzus americanus', '487675.2015', '7489684.543', '20S']\n",
      "['-63.06', '-22.71', 'Coccyzus americanus', '493838.0506', '7488581.322', '20S']\n",
      "['-62.69', '-22.3', 'Coccyzus americanus', '531930.8344', '7533933.861', '20S']\n",
      "['-61.5', '-23.25', 'Coccyzus americanus', '653449.886', '7428011.843', '20S']\n",
      "['-63.64', '-23.88', 'Coccyzus americanus', '434843.7771', '7358911.708', '20S']\n",
      "['-63.33', '-24.36', 'Coccyzus americanus', '466529.2534', '7305875.755', '20S']\n",
      "['-62.91', '-20.71', 'Coccyzus americanus', '509371.5437', '7709944.309', '20S']\n",
      "['-63.78', '-23.62', 'Coccyzus americanus', '420432.4698', '7387626.701', '20S']\n",
      "['-63.84', '-23.21', 'Coccyzus americanus', '414047.1246', '7432984.665', '20S']\n",
      "['-63.73', '-18.71', 'Coccyzus americanus', '423033.7931', '7931102.621', '20S']\n",
      "['-60.03', '-21.32', 'Coccyzus americanus', '808108.0901', '7639531.242', '20S']\n",
      "['-61.85', '-20.72', 'Coccyzus americanus', '619745.6768', '7708415.01', '20S']\n",
      "['-60.3', '-22.18', 'Coccyzus americanus', '778417.3834', '7544771.55', '20S']\n",
      "['-60.88', '-22.19', 'Coccyzus americanus', '718571.3854', '7544614.77', '20S']\n",
      "['-61.83', '-19.44', 'Coccyzus americanus', '622821.7816', '7850068.948', '20S']\n",
      "['-60.92', '-18.12', 'Coccyzus americanus', '720084.0904', '7995295.225', '20S']\n",
      "['-63.36', '-23.64', 'Coccyzus americanus', '463282.7113', '7385583.285', '20S']\n",
      "['-63.47', '-23.52', 'Coccyzus americanus', '452019.792', '7398835.952', '20S']\n",
      "['-63.01', '-24.98', 'Coccyzus americanus', '498990.7396', '7237266.784', '20S']\n",
      "['-62.12', '-19.7', 'Coccyzus americanus', '592228.5541', '7821477.369', '20S']\n",
      "['-61.98', '-20.42', 'Coccyzus americanus', '606415.771', '7741709.872', '20S']\n",
      "['-62.07', '-23.19', 'Coccyzus americanus', '595176.8061', '7435142.85', '20S']\n",
      "['-62.81', '-22.92', 'Coccyzus americanus', '519482.971', '7465323.588', '20S']\n",
      "['-63.69', '-23.02', 'Coccyzus americanus', '429296.9741', '7454099.751', '20S']\n",
      "['-62.45', '-24.3', 'Coccyzus americanus', '555811.216', '7312448.399', '20S']\n",
      "['-63.08', '-23.65', 'Coccyzus americanus', '491841.2574', '7384520.166', '20S']\n",
      "['-63.11', '-22.23', 'Coccyzus americanus', '488664.1023', '7541710.792', '20S']\n",
      "['-61.62', '-18.19', 'Coccyzus americanus', '645944.6002', '7988244.652', '20S']\n",
      "['-62.42', '-20.21', 'Coccyzus americanus', '560590.9617', '7765173.867', '20S']\n",
      "['-61.94', '-19.78', 'Coccyzus americanus', '611039.6885', '7812515.97', '20S']\n",
      "['-62.75', '-18.83', 'Coccyzus americanus', '526339.1451', '7917963.954', '20S']\n",
      "['-62.04', '-19.44', 'Coccyzus americanus', '600775.0526', '7850205.353', '20S']\n",
      "['-63.61', '-19.59', 'Coccyzus americanus', '436026.2883', '7833774.068', '20S']\n",
      "['-63.72', '-22.72', 'Coccyzus americanus', '426060.6129', '7487296.171', '20S']\n",
      "['-64.12', '-21.21', 'Coccyzus americanus', '383757.8169', '7654199.724', '20S']\n",
      "['-62.47', '-17.06', 'Coccyzus americanus', '556397.6037', '8113730.919', '20S']\n",
      "['-63.27', '-21', 'Coccyzus americanus', '471939.1428', '7677828.667', '20S']\n",
      "['-61.91', '-38.64', 'Coccyzus americanus', '594862.6981', '5722608.288', '20S']\n",
      "['-61.98', '-39.98', 'Coccyzus americanus', '587093.1021', '5573964.451', '20S']\n",
      "['-61.49', '-38.55', 'Coccyzus americanus', '631581.1536', '5732077.784', '20S']\n",
      "['-61.32', '-24.83', 'Coccyzus americanus', '669776.6883', '7252830.472', '20S']\n",
      "['-61.97', '-27.45', 'Coccyzus americanus', '601784.9006', '6963299.75', '20S']\n",
      "['-61.9', '-36.81', 'Coccyzus americanus', '598118.3776', '5925640.236', '20S']\n",
      "['-72.76', '-15.91', 'Coccyzus americanus', '739820.3717', '8239734.318', '18S']\n",
      "['-75.75', '-11.35', 'Coccyzus americanus', '418163.1265', '8745215.038', '18S']\n",
      "['-74.04', '-8.17', 'Coccyzus americanus', '605751.7129', '9096782.397', '18S']\n",
      "['-75.2', '-9.45', 'Coccyzus americanus', '478045.0006', '8955390.169', '18S']\n",
      "['-75.64', '-13.09', 'Coccyzus americanus', '430621.3185', '8552823.722', '18S']\n",
      "['-74.03', '-7.14', 'Coccyzus americanus', '607110.2394', '9210661.871', '18S']\n",
      "['-75.43', '-1.32', 'Coccyzus americanus', '452163.9269', '9854095.945', '18S']\n",
      "['-75.08', '-7.78', 'Coccyzus americanus', '491179.4006', '9140022.528', '18S']\n",
      "['-72.09', '-11.05', 'Coccyzus americanus', '817973.4192', '8776943.386', '18S']\n",
      "['-76', '-2.94', 'Coccyzus americanus', '388864.8687', '9674989.055', '18S']\n",
      "['-76.03', '-2.86', 'Coccyzus americanus', '385522.4157', '9683830.087', '18S']\n",
      "['-75.03', '-3.6', 'Coccyzus americanus', '496668.2943', '9602086.525', '18S']\n",
      "['-75.29', '-1.31', 'Coccyzus americanus', '467738.5', '9855203.52', '18S']\n",
      "['-75.66', '-8.29', 'Coccyzus americanus', '427319.3083', '9083581.614', '18S']\n",
      "['-75.28', '-3.48', 'Coccyzus americanus', '468899.9551', '9615346.081', '18S']\n",
      "['-74.65', '-3.81', 'Coccyzus americanus', '538860.9769', '9578866.41', '18S']\n",
      "['-75.39', '-3.07', 'Coccyzus americanus', '456664.295', '9660661.6', '18S']\n",
      "['-76.36', '-6.49', 'Coccyzus americanus', '349615.5745', '9282427.507', '18S']\n",
      "['-78.22', '0.04', 'Coccyzus americanus', '809466.5897', '4426.446339', '17N']\n",
      "['-80.58', '6.9', 'Coccyzus americanus', '546399.6432', '762714.667', '17N']\n",
      "['-84.36', '7.52', 'Coccyzus americanus', '791356.2401', '832112.6427', '16N']\n",
      "['-86.66', '8.24', 'Coccyzus americanus', '537445.697', '910846.3014', '16N']\n",
      "['-86.76', '7.9', 'Coccyzus americanus', '526454.2847', '873250.3383', '16N']\n",
      "['-87.11', '11.04', 'Coccyzus americanus', '487984.7936', '1220404.467', '16N']\n",
      "['-86.69', '10.67', 'Coccyzus americanus', '533902.8571', '1179508.552', '16N']\n",
      "['-84.41', '7.12', 'Coccyzus americanus', '786089.5478', '787816.367', '16N']\n",
      "['-85.37', '5.31', 'Coccyzus americanus', '680629.1044', '587169.217', '16N']\n",
      "['-87.67', '8.56', 'Coccyzus americanus', '426269.1845', '946271.7425', '16N']\n",
      "['-89.97', '13.66', 'Coccyzus americanus', '178672.7316', '1512092.596', '16N']\n",
      "['-100.58', '21.78', 'Coccyzus americanus', '336645.6078', '2409312.233', '14N']\n",
      "['-104.02', '24.4', 'Coccyzus americanus', '599369.5546', '2698864.352', '13N']\n",
      "['-111.7', '29.06', 'Coccyzus americanus', '431858.5561', '3214835.322', '12N']\n",
      "['-111.55', '29.26', 'Coccyzus americanus', '446564.2136', '3236917.306', '12N']\n",
      "['-111.32', '33.74', 'Coccyzus americanus', '470358.905', '3733374.277', '12N']\n",
      "['-110.92', '34.27', 'Coccyzus americanus', '507364.3711', '3792096.596', '12N']\n",
      "['-110.99', '30.64', 'Coccyzus americanus', '500958.2281', '3389706.045', '12N']\n",
      "['-112.32', '30.53', 'Coccyzus americanus', '373365.5318', '3378257.12', '12N']\n",
      "['-113.45', '28.42', 'Coccyzus americanus', '260009.9803', '3146172.337', '12N']\n",
      "['-113.3', '28.67', 'Coccyzus americanus', '275239.5262', '3173590.414', '12N']\n",
      "['-115.16', '31.61', 'Coccyzus americanus', '674543.0781', '3498677.738', '11N']\n",
      "['-114.89', '32.07', 'Coccyzus americanus', '699168.9988', '3550142.444', '11N']\n",
      "['-113.73', '30.89', 'Coccyzus americanus', '239031.9337', '3420604.661', '12N']\n",
      "['-116.26', '30.52', 'Coccyzus americanus', '570997.221', '3376640.693', '11N']\n",
      "['-114.37', '33.54', 'Coccyzus americanus', '744209.7813', '3714252.11', '11N']\n",
      "['-114.47', '31.63', 'Coccyzus americanus', '739962.0352', '3502204.728', '11N']\n"
     ]
    }
   ],
   "source": [
    "#data storage \n",
    "# Since I have a small dataset, I wanted to see importing in the csv and play around from there\n",
    "with open(r\"C:\\\\Users\\\\jessi\\\\Documents\\\\UMN\\\\2023-2024\\\\GeoComp\\\\cockoo_1.csv\", mode ='r') as file: \n",
    "    data1 = csv.reader(file)\n",
    "    for row in data1:\n",
    "        print(row)\n"
   ]
  },
  {
   "cell_type": "markdown",
   "metadata": {},
   "source": [
    "#### Addition definition 1"
   ]
  },
  {
   "cell_type": "code",
   "execution_count": 65,
   "metadata": {},
   "outputs": [],
   "source": [
    "def sum_position (*list_positons:int)-> int: #sub moduler for the addition function. \n",
    "    \"\"\"sums up the wanted position of the list value.\n",
    "    remember to type in position values that exists \"\"\"\n",
    "    return sum (list_positons) #return whcih can be used to print out the outcome of the result later. \n",
    "\n",
    "# subtract\n",
    "def sub_position (position1: int, position2: int) -> int:\n",
    "    return position1 - position2\n",
    "    \n",
    "#multiplication\n",
    "def multiplication (position1: int, count: int) -> int:\n",
    "    return position1 * count\n",
    "\n",
    "#devision \n",
    "def div(weight: float, count: float) -> float: \n",
    "    \"\"\"For calculating the average weight of each bird specimen from a sum of certain number of birds, can also be used in other simple calculation\n",
    "    weight: weight of individual, multiple birds\n",
    "    count: the number of individuals\"\"\"\n",
    "    return weight / count\n",
    "\n",
    "#sum \n",
    "\n",
    "\n",
    "\n",
    "\n"
   ]
  },
  {
   "cell_type": "markdown",
   "metadata": {},
   "source": [
    "### Function 1: Function for acquiring data into a global list"
   ]
  },
  {
   "cell_type": "code",
   "execution_count": 66,
   "metadata": {},
   "outputs": [
    {
     "name": "stdout",
     "output_type": "stream",
     "text": [
      "[list[-115.08, 34.53, 130, 'a'], list[-111.31, 32.84, 132, 'b'], list[-72.35, 13.53, 110, 'c'], list[-74.89, 19.9, 128, 'd']]\n"
     ]
    }
   ],
   "source": [
    "all_birds = [] #global list \n",
    "def coord_sample(lat: float, long: float, weight: float, id:str):#weight is in grams, record the sample bird lat and long, and then gives it an id\n",
    "    list_bird = list [lat,long,weight, id]#creating sublist \n",
    "    all_birds.append(list_bird)#appending the new data each time back to global list \n",
    "\n",
    "\n",
    "#testing outt function\n",
    "coord_sample(-115.08, 34.53, 130, \"a\")\n",
    "coord_sample(-111.31, 32.84, 132, \"b\")\n",
    "coord_sample(-72.35, 13.53, 110, \"c\")\n",
    "coord_sample(-74.89, 19.9, 128, \"d\")\n",
    "print(all_birds)"
   ]
  },
  {
   "cell_type": "markdown",
   "metadata": {},
   "source": [
    "#### Function 2: data processing"
   ]
  },
  {
   "cell_type": "code",
   "execution_count": 67,
   "metadata": {},
   "outputs": [
    {
     "name": "stdout",
     "output_type": "stream",
     "text": [
      "[140, 124, 135]\n",
      "275\n",
      "11\n"
     ]
    }
   ],
   "source": [
    "#funtion ask for input in operation, and then conduct add,-, *, /, Sum, Minimum, Maximum\n",
    "bird_weight = []\n",
    "def weight_enter(*weights: float) -> float: #enters weight into bird_weight list\n",
    "    for weight in weights:#using for loop to add each weight into the global list append\n",
    "        bird_weight.append(weight) #\n",
    "\n",
    "\n",
    "\n",
    "weight_enter(140, 124, 135)\n",
    "print(bird_weight)\n",
    "\n",
    "\n",
    "\n",
    "\n",
    "# def data_process( operation_type: str):\n",
    "#     \"\"\"Operation type: add, subtract, multiplication, division, sum, minimum, maximum\"\"\"\n",
    "#     if operation_type == \"Add\":\n",
    "#         math.\n",
    "print(sum_position(bird_weight[0],bird_weight[2]))\n",
    "print(sub_position(bird_weight[2], bird_weight[1])) \n"
   ]
  },
  {
   "cell_type": "code",
   "execution_count": 68,
   "metadata": {},
   "outputs": [],
   "source": [
    "def data_processing(operation = str) -> str: \n",
    "    \"\"\" operations: add, subtract, \"\"\""
   ]
  },
  {
   "cell_type": "markdown",
   "metadata": {},
   "source": [
    "## Execution \n",
    "\n",
    "The code cell(s) below are meant for your exection of your project objective (serving as your MVP). Remember, it should be simple."
   ]
  },
  {
   "cell_type": "code",
   "execution_count": 69,
   "metadata": {},
   "outputs": [],
   "source": [
    "# MVP Code Cell 1"
   ]
  },
  {
   "cell_type": "code",
   "execution_count": 70,
   "metadata": {},
   "outputs": [],
   "source": [
    "# MVP Code Cell 2"
   ]
  },
  {
   "cell_type": "code",
   "execution_count": 71,
   "metadata": {},
   "outputs": [],
   "source": [
    "# MVP Code Cell 3"
   ]
  },
  {
   "cell_type": "markdown",
   "metadata": {},
   "source": [
    "## Rationale\n",
    "Why is this an MVP for your project?"
   ]
  },
  {
   "cell_type": "markdown",
   "metadata": {},
   "source": [
    "As a wildlife student, I'm particularly interested into learning the geocomputing aspect where I can later apply on animal tracking data, further analyze them and store data for collared animal individuals. Understanding this will be way far down the line, I waant to start building features that would be allow simple operations for this project. \n",
    "To get some inspiration, I searched through numerous studies from movebank, and I saw this small dataset https://www.movebank.org/cms/webapp?gwt_fragment=page=studies,path=study14973153440 of this western cockakoo observed in China from 2011 to 2012. \n"
   ]
  }
 ],
 "metadata": {
  "kernelspec": {
   "display_name": "Python 3 (ipykernel)",
   "language": "python",
   "name": "python3"
  },
  "language_info": {
   "codemirror_mode": {
    "name": "ipython",
    "version": 3
   },
   "file_extension": ".py",
   "mimetype": "text/x-python",
   "name": "python",
   "nbconvert_exporter": "python",
   "pygments_lexer": "ipython3",
   "version": "3.11.5"
  }
 },
 "nbformat": 4,
 "nbformat_minor": 4
}

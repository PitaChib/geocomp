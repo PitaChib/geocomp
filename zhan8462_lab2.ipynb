{
 "cells": [
  {
   "cell_type": "markdown",
   "metadata": {},
   "source": [
    "# Principles of Geocomputing: Lab 2 (4 points)"
   ]
  },
  {
   "cell_type": "markdown",
   "metadata": {},
   "source": [
    "This second lab builds on your foundational understanding of Python and Jupyter Notebooks. This lab adds a little more complexity and begins to assess your understanding of not only Python statements, but also conditionals and functions."
   ]
  },
  {
   "cell_type": "markdown",
   "metadata": {},
   "source": [
    "## 1. Lab information and submission preparation"
   ]
  },
  {
   "cell_type": "code",
   "execution_count": 97,
   "metadata": {},
   "outputs": [],
   "source": [
    "your_name = \"Jiale_Jessica_Zhang \"\n",
    "your_intid = \"Zhan8462\"\n",
    "hours_spent = \"3hr?\"\n",
    "\n",
    "who_helped_you = \"Jared Woelfel, my boyfriend who work as a Softwear engineer and insists to teach me logic and documentation rules.\"\n",
    "who_you_helped = \"n/a\"\n",
    "genAI_helped_me = \"10%\""
   ]
  },
  {
   "cell_type": "markdown",
   "metadata": {},
   "source": [
    "## 2. Basic Warm-up"
   ]
  },
  {
   "cell_type": "code",
   "execution_count": 98,
   "metadata": {
    "tags": []
   },
   "outputs": [
    {
     "data": {
      "text/plain": [
       "' Coding commentaries are very important and a good habit to have for a couple of reasons: \\n1. they are helpful in reminding you specific logic you set, say you return to a section forgetting what the function calls for \\n2. They are also good way to construct an outline before you start actually writing codes\\n3. lastly, they help you stay organized to know what ou have already checked if they are running.'"
      ]
     },
     "execution_count": 98,
     "metadata": {},
     "output_type": "execute_result"
    }
   ],
   "source": [
    "\"\"\" Coding commentaries are very important and a good habit to have for a couple of reasons: \n",
    "1. they are helpful in reminding you specific logic you set, say you return to a section forgetting what the function calls for \n",
    "2. They are also good way to construct an outline before you start actually writing codes\n",
    "3. lastly, they help you stay organized to know what ou have already checked if they are running.\"\"\""
   ]
  },
  {
   "cell_type": "markdown",
   "metadata": {},
   "source": [
    "For the following warm-up questions, alter the **comparison operators** so that the print statement outputs \"It worked!\"  If you need a refresher on this topic, please consult **Python for Everybody**. \n",
    "\n",
    "You'll notice operators here, they are just like math class! \n",
    "- `<` Less than\n",
    "- `>` Greater than\n",
    "- `==` Equal to\n",
    "- `!=` Not Equal to\n",
    "- `<=` Less than **or** Equal to\n",
    "- `>=` Greater than **or** Equal to\n",
    "\n",
    "**Change the comparison operators in the cells below so that the statement prints to the screen.**"
   ]
  },
  {
   "cell_type": "code",
   "execution_count": 99,
   "metadata": {},
   "outputs": [
    {
     "name": "stdout",
     "output_type": "stream",
     "text": [
      "It worked!\n"
     ]
    }
   ],
   "source": [
    "# 2b. \n",
    "if 57 < 88:\n",
    "    print(\"It worked!\")\n",
    "\n"
   ]
  },
  {
   "cell_type": "code",
   "execution_count": 100,
   "metadata": {},
   "outputs": [
    {
     "name": "stdout",
     "output_type": "stream",
     "text": [
      "It worked!\n"
     ]
    }
   ],
   "source": [
    "# 2c. \n",
    "my_var = 111\n",
    "if my_var == 111:\n",
    "    print(\"It worked!\")"
   ]
  },
  {
   "cell_type": "code",
   "execution_count": 101,
   "metadata": {},
   "outputs": [
    {
     "name": "stdout",
     "output_type": "stream",
     "text": [
      "It worked!\n"
     ]
    }
   ],
   "source": [
    "# 2d.\n",
    "# Here we introduce another comparison operator. The 'and' operator.\n",
    "# In this case both the left side and right side comparisons must be True.\n",
    "if \"Python\" != \"Java\" and \"Geospatial computing\" != \"Cool\":\n",
    "    print(\"It worked!\")"
   ]
  },
  {
   "cell_type": "code",
   "execution_count": 102,
   "metadata": {},
   "outputs": [
    {
     "name": "stdout",
     "output_type": "stream",
     "text": [
      "It worked!\n"
     ]
    }
   ],
   "source": [
    "# 2e.\n",
    "\n",
    "# Here we are using the modulus operator (%)\n",
    "# Look up the modulus operator to see what it does\n",
    "if (2 + 5 + 9)/2 > 7 % 4: #the % is remainer of the division \n",
    "    print(\"It worked!\")"
   ]
  },
  {
   "cell_type": "markdown",
   "metadata": {},
   "source": [
    "## 3. Solving Problems\n",
    "In this section, you will tackle problems to build your spatial thinking and computational thinking abilities."
   ]
  },
  {
   "cell_type": "code",
   "execution_count": 103,
   "metadata": {},
   "outputs": [
    {
     "name": "stdout",
     "output_type": "stream",
     "text": [
      "Math modules provides math.pi as: 3.141592653589793\n",
      "<class 'float'>\n",
      "2*pi = 6.283185307179586\n",
      "Math.pi is not equal to 3.14.\n"
     ]
    }
   ],
   "source": [
    "import math\n",
    "print(\"Math modules provides math.pi as:\", math.pi)\n",
    "print(type(math.pi))\n",
    "print(\"2*pi =\", 2 * math.pi)\n",
    "\n",
    "# Write an if statement if 3.14 is equal to math.pi\n",
    "if math.pi == 3.14: \n",
    "    print ('Pi is euqal to 3.14')\n",
    "print (\"Math.pi is not equal to 3.14.\")"
   ]
  },
  {
   "cell_type": "markdown",
   "metadata": {},
   "source": [
    "3b. Objective: Calculate the Circumference of a Circle\n",
    "\n",
    "Recall that the circumference of a circle can be found with this equation: _C_=2&pi;_r_. Set a variable named <tt>**circleCir**</tt> to be the circumference of a circle with a radius of 80\". Construct a <tt>**print**</tt> statement using that variable that outputs the following\n",
    "\n",
    "<blockquote>A circle with a radius of 80 inches has an circumference of 502.6548245743669 inches.</blockquote>"
   ]
  },
  {
   "cell_type": "code",
   "execution_count": 104,
   "metadata": {},
   "outputs": [
    {
     "name": "stdout",
     "output_type": "stream",
     "text": [
      "A circle with a radius of 80 inches has an circumference of 502.6548245743669 inches.\n"
     ]
    }
   ],
   "source": [
    "circleCir = 2*math.pi*80 #assign cicle circumfrience variable a calculation \n",
    "print (f'A circle with a radius of 80 inches has an circumference of {circleCir} inches.')"
   ]
  },
  {
   "cell_type": "markdown",
   "metadata": {},
   "source": [
    "3c. Basic Arithmetic Calculator\n",
    "\n",
    "Objective: Create a program that asks the user for two numbers and then prints the result of adding, subtracting, multiplying, and dividing them.\n",
    "\n",
    "Skills: Input/Output, variables, arithmetic operations.\n",
    "\n",
    "Steps:\n",
    "1. Use input() to collect two numbers from the user. \n",
    "2. Convert these inputs to integers or floats \n",
    "3. Perform 4 arithmetic operations: addition, subtraction, multiplication, and division. \n",
    "4. Save the results of each operation\n",
    "5. Print all 4 results using the print() function.\n"
   ]
  },
  {
   "cell_type": "code",
   "execution_count": 105,
   "metadata": {},
   "outputs": [
    {
     "ename": "ValueError",
     "evalue": "invalid literal for int() with base 10: ''",
     "output_type": "error",
     "traceback": [
      "\u001b[1;31m---------------------------------------------------------------------------\u001b[0m",
      "\u001b[1;31mValueError\u001b[0m                                Traceback (most recent call last)",
      "Cell \u001b[1;32mIn[105], line 10\u001b[0m\n\u001b[0;32m      7\u001b[0m     \u001b[38;5;28mprint\u001b[39m (\u001b[38;5;124mf\u001b[39m\u001b[38;5;124m'\u001b[39m\u001b[38;5;132;01m{\u001b[39;00mint1\u001b[38;5;132;01m}\u001b[39;00m\u001b[38;5;124m * \u001b[39m\u001b[38;5;132;01m{\u001b[39;00mint2\u001b[38;5;132;01m}\u001b[39;00m\u001b[38;5;124m is equal to \u001b[39m\u001b[38;5;132;01m{\u001b[39;00mint1\u001b[38;5;241m*\u001b[39mint2\u001b[38;5;132;01m}\u001b[39;00m\u001b[38;5;124m.\u001b[39m\u001b[38;5;124m'\u001b[39m)\u001b[38;5;66;03m#calculates the product \u001b[39;00m\n\u001b[0;32m      8\u001b[0m     \u001b[38;5;28mprint\u001b[39m (\u001b[38;5;124mf\u001b[39m\u001b[38;5;124m'\u001b[39m\u001b[38;5;132;01m{\u001b[39;00mint1\u001b[38;5;132;01m}\u001b[39;00m\u001b[38;5;124m / \u001b[39m\u001b[38;5;132;01m{\u001b[39;00mint2\u001b[38;5;132;01m}\u001b[39;00m\u001b[38;5;124m is equal to \u001b[39m\u001b[38;5;132;01m{\u001b[39;00mint1\u001b[38;5;241m/\u001b[39mint2\u001b[38;5;132;01m}\u001b[39;00m\u001b[38;5;124m.\u001b[39m\u001b[38;5;124m'\u001b[39m)\u001b[38;5;66;03m#calculates the quotient \u001b[39;00m\n\u001b[1;32m---> 10\u001b[0m \u001b[43mcalc_2_int\u001b[49m\u001b[43m(\u001b[49m\u001b[43m)\u001b[49m\n",
      "Cell \u001b[1;32mIn[105], line 2\u001b[0m, in \u001b[0;36mcalc_2_int\u001b[1;34m()\u001b[0m\n\u001b[0;32m      1\u001b[0m \u001b[38;5;28;01mdef\u001b[39;00m \u001b[38;5;21mcalc_2_int\u001b[39m ():\n\u001b[1;32m----> 2\u001b[0m     int1 \u001b[38;5;241m=\u001b[39m \u001b[38;5;28;43mint\u001b[39;49m\u001b[43m(\u001b[49m\u001b[38;5;28;43minput\u001b[39;49m\u001b[43m(\u001b[49m\u001b[38;5;124;43m\"\u001b[39;49m\u001b[38;5;124;43mGive me first integer:\u001b[39;49m\u001b[38;5;124;43m\"\u001b[39;49m\u001b[43m)\u001b[49m\u001b[43m)\u001b[49m \u001b[38;5;66;03m#this prompts takes in the integers\u001b[39;00m\n\u001b[0;32m      3\u001b[0m     int2 \u001b[38;5;241m=\u001b[39m \u001b[38;5;28mint\u001b[39m(\u001b[38;5;28minput\u001b[39m (\u001b[38;5;124m\"\u001b[39m\u001b[38;5;124mGive me the second integer:\u001b[39m\u001b[38;5;124m\"\u001b[39m))\n\u001b[0;32m      4\u001b[0m     \u001b[38;5;28mprint\u001b[39m(\u001b[38;5;124mf\u001b[39m\u001b[38;5;124m'\u001b[39m\u001b[38;5;124mthe 2 random integers are \u001b[39m\u001b[38;5;132;01m{\u001b[39;00mint1\u001b[38;5;132;01m}\u001b[39;00m\u001b[38;5;124m and \u001b[39m\u001b[38;5;132;01m{\u001b[39;00mint2\u001b[38;5;132;01m}\u001b[39;00m\u001b[38;5;124m.\u001b[39m\u001b[38;5;124m'\u001b[39m)\u001b[38;5;66;03m#this provides a feedback to the integers \u001b[39;00m\n",
      "\u001b[1;31mValueError\u001b[0m: invalid literal for int() with base 10: ''"
     ]
    }
   ],
   "source": [
    "def calc_2_float ():\n",
    "    float1 = float(input(\"Give me first floateger:\")) #this prompts takes in the floategers\n",
    "    int2 = int(input (\"Give me the second integer:\"))\n",
    "    print(f'the 2 random integers are {int1} and {int2}.')#this provides a feedback to the integers \n",
    "    print(f'the sum of these are {int1 + int2}')#calculates the sum \n",
    "    print (f'{int1} - {int2} is equal to {int1-int2}.')#calculates the difference \n",
    "    print (f'{int1} * {int2} is equal to {int1*int2}.')#calculates the product \n",
    "    print (f'{int1} / {int2} is equal to {int1/int2}.')#calculates the quotient \n",
    "\n",
    "calc_2_int()"
   ]
  },
  {
   "cell_type": "markdown",
   "metadata": {},
   "source": [
    "3d. Temperature Converter\n",
    "\n",
    "Objective: Write a program that converts temperature from Celsius to Fahrenheit.\n",
    "\n",
    "Skills: Arithmetic operations, working with formulas.\n",
    "\n",
    "Steps: \n",
    "1. Ask the user to input a temperature in Celsius. \n",
    "2. Convert this to Fahrenheit using the formula (Celsius * 9/5) + 32\n",
    "3. Print the result."
   ]
  },
  {
   "cell_type": "code",
   "execution_count": null,
   "metadata": {},
   "outputs": [
    {
     "name": "stdout",
     "output_type": "stream",
     "text": [
      "46 C is equal to 114.8F. \n"
     ]
    }
   ],
   "source": [
    "def tempex():#define the function\n",
    "    Celsius = int(input(\"What is the temperature in Celcius?\"))#taking in the degrees celsius\n",
    "    Fahrenheit = (Celsius * 9/5) + 32 #saving the calculation result \n",
    "    print (f'{Celsius} C is equal to {Fahrenheit}F. ')#feeding back the result \n",
    "\n",
    "tempex()"
   ]
  },
  {
   "cell_type": "markdown",
   "metadata": {},
   "source": [
    "3e. Odd or Even\n",
    "\n",
    "Objective: Write a function that checks if a number is odd or even.\n",
    "\n",
    "Skills: Modulo operator, conditional statements.\n",
    "\n",
    "Steps: \n",
    "1. Have the user input a number.\n",
    "2. Write a function that takes in a number\n",
    "3. In the function, use the modulo operator (%) to determine if it's odd or even\n",
    "4. Return \"odd\" or \"even\" in the function based on the number\n",
    "5. Call your function using the input number from the user\n",
    "6. Print a message telling the user which it is."
   ]
  },
  {
   "cell_type": "code",
   "execution_count": null,
   "metadata": {},
   "outputs": [
    {
     "name": "stdout",
     "output_type": "stream",
     "text": [
      "The interger you provided was even.\n"
     ]
    }
   ],
   "source": [
    "def oddeven():#programing the function \n",
    "    check = int(input(\"Give me any integer\"))%2#odd number will have a 1 when it's divided by 2, this way we set up the conditional statement \n",
    "    if check == 1:#if it's odd\n",
    "        print (f'The interger you provided was odd.')#return word phrase indication\n",
    "    else:#when condition = even \n",
    "        print (f'The interger you provided was even.')#return even sentence \n",
    "    \n",
    "    \n",
    "oddeven()"
   ]
  },
  {
   "cell_type": "markdown",
   "metadata": {},
   "source": [
    "Great work! You started building your control and competence in programming in Python."
   ]
  },
  {
   "cell_type": "markdown",
   "metadata": {},
   "source": [
    "## 4. Reps (Repetitve actions to build your comfort levels)"
   ]
  },
  {
   "cell_type": "markdown",
   "metadata": {},
   "source": [
    "This series of exercises is designed to build your comfort writing Python functions."
   ]
  },
  {
   "cell_type": "markdown",
   "metadata": {},
   "source": [
    "### Exercise 1: Triple it\n",
    "\n",
    "Objective: Write a triple_it() function\n",
    "\n",
    "Look at the function below called **double_it()**. Using this function as a template write a function called **triple_it()** that will triple any number that is passed in as a parameter and return the tripled value.\n",
    "\n",
    "Then call your function with a number. Print out the result."
   ]
  },
  {
   "cell_type": "code",
   "execution_count": null,
   "metadata": {},
   "outputs": [
    {
     "name": "stdout",
     "output_type": "stream",
     "text": [
      "8\n"
     ]
    }
   ],
   "source": [
    "# Example function you can use as a template\n",
    "def double_it(number):\n",
    "    doubled = number * 2\n",
    "    return doubled\n",
    "\n",
    "# Notice here, I am nesting function calls\n",
    "print(double_it(4))"
   ]
  },
  {
   "cell_type": "code",
   "execution_count": null,
   "metadata": {},
   "outputs": [
    {
     "name": "stdout",
     "output_type": "stream",
     "text": [
      "9\n"
     ]
    }
   ],
   "source": [
    "# Write triple_it() here\n",
    "# Do NOT copy and paste the code above. Type it out yourself.\n",
    "# These reps will help you develop comfort writing functions yourself.\n",
    "\n",
    "def triple_it(number):\n",
    "    tripled = number*3#tripling the number input and saving it so I can call it out and print it later. \n",
    "    return tripled #return the tripled number \n",
    "print(triple_it(3))"
   ]
  },
  {
   "cell_type": "markdown",
   "metadata": {},
   "source": [
    "### Exercise 2: Write quadruple_it\n",
    "\n",
    "Objective: Write a quadruple_it() function\n",
    "\n",
    "Steps:\n",
    "1. Define your quadruple_it() function\n",
    "2. Ensure it takes in a parameter\n",
    "3. Multiple the passed in parameter by 4\n",
    "4. Return the multiplied number\n",
    "5. Call your function and print out the result.\n",
    "\n"
   ]
  },
  {
   "cell_type": "code",
   "execution_count": null,
   "metadata": {},
   "outputs": [
    {
     "data": {
      "text/plain": [
       "16"
      ]
     },
     "execution_count": 79,
     "metadata": {},
     "output_type": "execute_result"
    }
   ],
   "source": [
    "# Write quadruple_it() here\n",
    "# Do NOT copy and paste the code. Type it out yourself.\n",
    "\n",
    "def quadruple_it (number):\n",
    "    quad = number *4\n",
    "    return quad\n",
    "quadruple_it(4)"
   ]
  },
  {
   "cell_type": "markdown",
   "metadata": {},
   "source": [
    "### Exercise 3: Ten-fold\n",
    "\n",
    "Objective: Write a function that multiplies a number value by 10\n",
    "\n",
    "1. Define your tenfold_it() function\n",
    "2. Ensure it takes in a parameter\n",
    "3. Multiple the passed in parameter by 10\n",
    "4. Return the multiplied number\n",
    "5. Call your function and print out the result."
   ]
  },
  {
   "cell_type": "code",
   "execution_count": null,
   "metadata": {},
   "outputs": [
    {
     "data": {
      "text/plain": [
       "100"
      ]
     },
     "execution_count": 80,
     "metadata": {},
     "output_type": "execute_result"
    }
   ],
   "source": [
    "# Write quadruple_it() here\n",
    "# Do NOT copy and paste the code. Type it out yourself.\n",
    "def tenfold(number):\n",
    "    ten = number*10 \n",
    "    return ten\n",
    "tenfold(10)"
   ]
  },
  {
   "cell_type": "markdown",
   "metadata": {},
   "source": [
    "## 5. Stretch Exercise. Keep moving forward by solving this problem."
   ]
  },
  {
   "cell_type": "markdown",
   "metadata": {},
   "source": [
    "### Area or Line?\n",
    "\n",
    "In class we calculated the Euclidean distance between two points. We can also use two points to represent a rectangle (oftentimes called a Bounding Box). Usually we refer to these points as the Lower Left (ll) and Upper Right (ur) points. This is because you can use the x and y coordinates in different combinations to come up with the Upper Left and the Lower Right coordinates. Now, let's say in our GIS we want the ability to EITHER calculate the Euclidean distance between two points or calculate the area of a Bounding box represented as two points.\n",
    "\n",
    "In this last question write the code that handles this case using the code cell below. Hint: There are many ways to solve this lab question. It will require you to combine some of things we have learned in class so far in terms of sequential and conditional statements.\n"
   ]
  },
  {
   "cell_type": "code",
   "execution_count": 137,
   "metadata": {},
   "outputs": [
    {
     "name": "stdout",
     "output_type": "stream",
     "text": [
      "The area is equal to 15 squared units.\n"
     ]
    }
   ],
   "source": [
    "import math\n",
    "\n",
    "operation = None\n",
    "AREA = \"area\"\n",
    "DISTANCE = \"distance\"\n",
    "\n",
    "#euclid program\n",
    "def euclid(x1: float, y1: float, x2: float, y2: float) -> float:\n",
    "    \"\"\"\n",
    "    Calculates the euclidean distance between the provided points.\n",
    "    \"\"\"\n",
    "    return math.sqrt((x2 - x1)**2 + (y2 - y1)**2)\n",
    "\n",
    "#bounding area \n",
    "def area(x1: float, y1: float, x2: float, y2: float) -> float:\n",
    "   \"\"\"\n",
    "   calculate the bounding area. \n",
    "   \"\"\"\n",
    "   return abs(x2 - x1)* abs(y2 - y1)\n",
    "   \n",
    "\n",
    "def area_or_distance(x1: float, y1: float, x2: float, y2: float, operation: str) -> float:\n",
    "    \"\"\"\n",
    "    Operation for commanding either calculating the area or euclidean distance between 2 provided points\n",
    "    \"\"\"\n",
    "    if operation == AREA:\n",
    "        return area(x1, y1, x2, y2)\n",
    "    elif operation == DISTANCE:\n",
    "        return euclid(x1, y1, x2, y2)\n",
    "    else:\n",
    "        raise ValueError(\"Invalid operation: operation must be one of ['area', 'distance']\")\n",
    "        \n",
    "area = area_or_distance(4, 2, 1, 7, \"area\")\n",
    "print (f'The area is equal to {area} squared units.')\n",
    "\n"
   ]
  },
  {
   "cell_type": "markdown",
   "metadata": {},
   "source": [
    "## 6. Keep going\n",
    "\n",
    "Below are some prompts with Python code. The objective of this exercise is to follow along and **comment** what is going on at each step in your own words. \n",
    "We will learn more about principles and best-practices in the coming weeks. \n",
    "This exercise serves two purposes: 1. helping you read and understand existing code and 2. helping you learn how to comment code effectively.\n",
    "As we will learn comments should explain WHY the code was written (why does the code exist at all) as well as (and less importantly) WHAT the code is doing.\n",
    "In this example you may not know why, but you can document what is happening.\n",
    "\n",
    "* <i> Note: You only need to comment the code in the following three examples. Do not modify the code.</i>"
   ]
  },
  {
   "cell_type": "code",
   "execution_count": 129,
   "metadata": {},
   "outputs": [
    {
     "name": "stdout",
     "output_type": "stream",
     "text": [
      "x = 4 , y = 6 , z = 7\n"
     ]
    }
   ],
   "source": [
    "# Comment this code! (Do not change the code)\n",
    "#assigning variables a value for x, y, z\n",
    "x = 5\n",
    "y = 2\n",
    "z = 4\n",
    "\n",
    "x = x - 1 #assign x the value of x minus 1\n",
    "y = x - y + z # assign y the value of x minus y plus z \n",
    "z = z + 3 # assign z the value of z plus 3. \n",
    "print(\"x =\", x, \", y =\", y, \", z =\", z)#print out the value of each variable with text tag "
   ]
  },
  {
   "cell_type": "markdown",
   "metadata": {},
   "source": [
    "You want to get a haircut, but need some help calculating a total cost with a tip and tax included. After much thought, you remember that you already wrote a Python script to do this. The only problem is that you forgot what you did, and you now need to comment the code to understand what is going on. Follow along and **comment** what is happening at each step. \n",
    "\n",
    "\n",
    "* **Cost of the Haircut:** $19.87\n",
    "* **Tax:**  4.3%\n",
    "* **Tip:**  20%\n"
   ]
  },
  {
   "cell_type": "code",
   "execution_count": 130,
   "metadata": {},
   "outputs": [
    {
     "name": "stdout",
     "output_type": "stream",
     "text": [
      "The total price of the haircut is 24.87 dollars.\n"
     ]
    }
   ],
   "source": [
    "# Comment this code! (Do not change the code)\n",
    "# assign the variables with the amount spent \n",
    "hair_cut = 19.87 \n",
    "tax = 4.3 / 100\n",
    "tip = 20 / 100\n",
    "\n",
    "hair_cut_tax = hair_cut * tax #assign tax variable of result of the calculation haircut *tax money\n",
    "hair_cut = hair_cut_tax + hair_cut #assign haircut variable the amount of tax paid with the haircut paid\n",
    "total_tip = hair_cut * tip #assign variable tip with the porportion of tip times total amount paid\n",
    "total_price = total_tip + hair_cut #assign total price variable with the sum of tip paid and haircut cost \n",
    "total_price = round(total_price, 2) #assign the total price variable with rounded data \n",
    "print(\"The total price of the haircut is\", total_price, \"dollars.\") #print out the text statement of acount total paid"
   ]
  }
 ],
 "metadata": {
  "anaconda-cloud": {},
  "kernelspec": {
   "display_name": "Python 3 (ipykernel)",
   "language": "python",
   "name": "python3"
  },
  "language_info": {
   "codemirror_mode": {
    "name": "ipython",
    "version": 3
   },
   "file_extension": ".py",
   "mimetype": "text/x-python",
   "name": "python",
   "nbconvert_exporter": "python",
   "pygments_lexer": "ipython3",
   "version": "3.11.5"
  }
 },
 "nbformat": 4,
 "nbformat_minor": 4
}

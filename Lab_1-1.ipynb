{
 "cells": [
  {
   "cell_type": "markdown",
   "metadata": {},
   "source": [
    "# Zhan8462_lab1"
   ]
  },
  {
   "cell_type": "markdown",
   "metadata": {},
   "source": [
    "\n",
    "\n",
    "* __Standard__:&nbsp;&nbsp;&nbsp; <tt>&lt;Zhan8462&gt;_lab&lt;lab1&gt;.ipynb</tt>\n"
   ]
  },
  {
   "cell_type": "markdown",
   "metadata": {},
   "source": [
    "## 1. Lab information and submission preparation"
   ]
  },
  {
   "cell_type": "code",
   "execution_count": 2,
   "metadata": {},
   "outputs": [],
   "source": [
    "your_name = \"Jiale_Jessica_Zhang\"\n",
    "your_intid = \"zhan8462\"\n",
    "hours_spent = \"0.5\"\n",
    "\n",
    "who_helped_you = \"\"\n",
    "who_you_helped = \"\"\n",
    "genAI_helped_me = \"%\""
   ]
  },
  {
   "cell_type": "markdown",
   "metadata": {},
   "source": [
    "## 2. Basic Warm-up: Who are you and basics of data types"
   ]
  },
  {
   "cell_type": "markdown",
   "metadata": {},
   "source": [
    "2a. Using a single call to the <tt>**print**</tt> function, print your name using the <tt>**your_name**</tt> variable declared earlier. For example, your instructor's output would appear as:\n",
    "\n",
    "<blockquote>Eric Shook</blockquote>\n",
    "\n",
    "\n",
    "Note: If you receive an Error (a bug), then you should scroll up and make sure to \"Run\" the code cell above that assigns values to the variables your_name, your_intid, hours_spent."
   ]
  },
  {
   "cell_type": "code",
   "execution_count": 3,
   "metadata": {
    "tags": []
   },
   "outputs": [
    {
     "name": "stdout",
     "output_type": "stream",
     "text": [
      "Jiale_Jessica_Zhang\n"
     ]
    }
   ],
   "source": [
    "# Print who you are here\n",
    "print(your_name)"
   ]
  },
  {
   "cell_type": "markdown",
   "metadata": {},
   "source": [
    "2b. Run the following code cell, which prints out the number of hours you spent on the lab. \n"
   ]
  },
  {
   "cell_type": "code",
   "execution_count": 6,
   "metadata": {},
   "outputs": [
    {
     "name": "stdout",
     "output_type": "stream",
     "text": [
      "0.5\n"
     ]
    }
   ],
   "source": [
    "print(hours_spent)\n"
   ]
  },
  {
   "cell_type": "markdown",
   "metadata": {},
   "source": [
    "2c. Using a single call to the <tt>**print**</tt> function, print your Internet ID using the <tt>**your_int_id**</tt> variable declared earlier. For example, your instructors's output would appear as:\n",
    "\n",
    "<blockquote>eshook</blockquote>\n"
   ]
  },
  {
   "cell_type": "code",
   "execution_count": 7,
   "metadata": {
    "tags": []
   },
   "outputs": [
    {
     "name": "stdout",
     "output_type": "stream",
     "text": [
      "zhan8462\n"
     ]
    }
   ],
   "source": [
    "print(your_intid)"
   ]
  },
  {
   "cell_type": "code",
   "execution_count": 10,
   "metadata": {},
   "outputs": [
    {
     "data": {
      "text/plain": [
       "str"
      ]
     },
     "execution_count": 10,
     "metadata": {},
     "output_type": "execute_result"
    }
   ],
   "source": [
    "dog = \"Golden Retriever\"\n",
    "type(dog)\n"
   ]
  },
  {
   "cell_type": "markdown",
   "metadata": {},
   "source": [
    "2e. Now let's check the type of this variable."
   ]
  },
  {
   "cell_type": "code",
   "execution_count": 12,
   "metadata": {},
   "outputs": [
    {
     "data": {
      "text/plain": [
       "int"
      ]
     },
     "execution_count": 12,
     "metadata": {},
     "output_type": "execute_result"
    }
   ],
   "source": [
    "number_of_dogs = 8\n",
    "type(number_of_dogs)"
   ]
  },
  {
   "cell_type": "markdown",
   "metadata": {},
   "source": [
    "## 3. Solving Problems"
   ]
  },
  {
   "cell_type": "markdown",
   "metadata": {},
   "source": [
    "3a. Objective: Create a variable named city_name and assign it the name Paris as a string. Then, print this variable."
   ]
  },
  {
   "cell_type": "code",
   "execution_count": 23,
   "metadata": {},
   "outputs": [
    {
     "name": "stdout",
     "output_type": "stream",
     "text": [
      "Paris\n"
     ]
    }
   ],
   "source": [
    "city = \"Paris\"\n",
    "print(city)\n",
    "city = \"Minneapolis\""
   ]
  },
  {
   "cell_type": "markdown",
   "metadata": {},
   "source": [
    "3b. Objective: Define two variables, latitude and longitude, for the geographic coordinates of your city (Please look this up). Assign appropriate numeric values to them and print these variables."
   ]
  },
  {
   "cell_type": "code",
   "execution_count": 28,
   "metadata": {},
   "outputs": [],
   "source": [
    "lat = 44.977753\n",
    "long = -93.265015\n"
   ]
  },
  {
   "cell_type": "markdown",
   "metadata": {},
   "source": [
    "3c. Print a sentence that uses your variables from Question 2 and 3 to describe the location of your city."
   ]
  },
  {
   "cell_type": "code",
   "execution_count": 29,
   "metadata": {},
   "outputs": [
    {
     "name": "stdout",
     "output_type": "stream",
     "text": [
      "My name is Jiale_Jessica_Zhang and I'm from Minneapolis, which is located precisely 44.977753,-93.265015.\n"
     ]
    }
   ],
   "source": [
    "\n",
    "print(f\"My name is {your_name} and I'm from {city}, which is located precisely {lat},{long}.\")"
   ]
  },
  {
   "cell_type": "markdown",
   "metadata": {},
   "source": [
    "3d. Use the type() function to determine and print the data types of the variables city_name, latitude, and longitude."
   ]
  },
  {
   "cell_type": "code",
   "execution_count": 30,
   "metadata": {},
   "outputs": [
    {
     "data": {
      "text/plain": [
       "float"
      ]
     },
     "execution_count": 30,
     "metadata": {},
     "output_type": "execute_result"
    }
   ],
   "source": [
    "type (city)\n",
    "type (lat)\n"
   ]
  },
  {
   "cell_type": "markdown",
   "metadata": {},
   "source": [
    "3e. Create a Boolean variable named is_capital that indicates whether your city is a capital city (True or False). Print the variable."
   ]
  },
  {
   "cell_type": "code",
   "execution_count": 33,
   "metadata": {},
   "outputs": [
    {
     "name": "stdout",
     "output_type": "stream",
     "text": [
      "it is True that Minneapolis is the capital of Minnesota\n"
     ]
    }
   ],
   "source": [
    "is_capital = True\n",
    "print (f\"it is {is_capital} that {city} is the capital of Minnesota\")"
   ]
  },
  {
   "cell_type": "markdown",
   "metadata": {},
   "source": [
    "3f. Concatenate the city_name with a string that says \" is a beautiful city!\" and print the result. Please note you will need to look up \"string concatenation\" to complete this exercise. This is an example of learning how to learn. There are many online sources to help you with this."
   ]
  },
  {
   "cell_type": "code",
   "execution_count": 35,
   "metadata": {},
   "outputs": [
    {
     "name": "stdout",
     "output_type": "stream",
     "text": [
      "Minneapolisis a beautiful city!\n"
     ]
    }
   ],
   "source": [
    "clause = \"is a beautiful city!\"\n",
    "sentence = city + clause\n",
    "print(sentence)"
   ]
  },
  {
   "cell_type": "markdown",
   "metadata": {},
   "source": [
    "3g. Perform a basic arithmetic operation. Create two variables population_in_millions (float) and area_in_sq_km (float) for your city. Calculate and print the population density (population per square kilometer)."
   ]
  },
  {
   "cell_type": "code",
   "execution_count": 39,
   "metadata": {},
   "outputs": [
    {
     "name": "stdout",
     "output_type": "stream",
     "text": [
      "0.0027799738562091503\n"
     ]
    }
   ],
   "source": [
    "mn_pop = 425336/1000000\n",
    "area_sq_km = 153\n",
    "pop_den = mn_pop/area_sq_km\n",
    "print(pop_den)"
   ]
  },
  {
   "cell_type": "markdown",
   "metadata": {},
   "source": [
    "Great work! You started building your control and competence in programming in Python."
   ]
  },
  {
   "cell_type": "markdown",
   "metadata": {},
   "source": [
    "## 4. Reps (Repetitve actions to build your comfort levels)"
   ]
  },
  {
   "cell_type": "markdown",
   "metadata": {},
   "source": [
    "Here are 3 exercises that you should repeat **five times** (reps!), so that you are more comfortable with your environment."
   ]
  },
  {
   "cell_type": "markdown",
   "metadata": {},
   "source": [
    "## 5. Stretch Exercises. Keep moving forward by solving these problems."
   ]
  },
  {
   "cell_type": "markdown",
   "metadata": {},
   "source": [
    "### Reminder: Reserved Words "
   ]
  },
  {
   "cell_type": "markdown",
   "metadata": {},
   "source": [
    "### Fix the following code"
   ]
  },
  {
   "cell_type": "markdown",
   "metadata": {},
   "source": [
    "Fix the errors and inconsistencies in the code below. The <tt>**print**</tt> statement at the end of the code block should display the value of the variable containing the combined variables."
   ]
  },
  {
   "cell_type": "code",
   "execution_count": 44,
   "metadata": {},
   "outputs": [
    {
     "name": "stdout",
     "output_type": "stream",
     "text": [
      "178000\n"
     ]
    }
   ],
   "source": [
    "# Computer part sales. The total should print the value 178000\n",
    "\n",
    "globalLaptopSales2017 = 90000\n",
    "globalDesktopSales2017 = 88000\n",
    "\n",
    "global2017totalSales = globalLaptopSales2017 + globalDesktopSales2017\n",
    "print(global2017totalSales)"
   ]
  },
  {
   "cell_type": "code",
   "execution_count": 49,
   "metadata": {},
   "outputs": [
    {
     "name": "stdout",
     "output_type": "stream",
     "text": [
      "Please bring pizza to this address: 269 19th Avenue S, cityMN55455\n"
     ]
    }
   ],
   "source": [
    "# Pizza Delivery Address\n",
    "\n",
    "streetNum = \"269\"\n",
    "streetName = \"19th Avenue S\"\n",
    "city = \"Minneapolis\"\n",
    "stateAbbrev = 'MN'\n",
    "zipCode = '55455'\n",
    "\n",
    "# The line of code below uses string concatenation, which we will learn more about later in the semester \n",
    "completeAddress = \"Please bring pizza to this address: \" + streetNum + \" \" + streetName + \", \" + \"city\" + stateAbbrev + zipCode\n",
    "# Hint: pay attention to the quotes!\n",
    "print(completeAddress)"
   ]
  },
  {
   "cell_type": "code",
   "execution_count": 1,
   "metadata": {},
   "outputs": [
    {
     "name": "stdout",
     "output_type": "stream",
     "text": [
      "I am: crushing this, and really excited about learning more and progress forward in coding.\n"
     ]
    }
   ],
   "source": [
    "#Use this cell to print out how you are feeling about coding\n",
    "# Select one of the three lines to keep uncommented. Comment out the other 2 lines so that you explain how you are feeling right now.\n",
    "#HINT: Comment out 2 variables so the code will run\n",
    "\n",
    "CodeOne = \"I am:\"\n",
    "\n",
    "CodeTwo = \"terrified\"\n",
    "CodeTwo = \"up to the challenge\"\n",
    "CodeTwo = \"crushing this, and really excited about learning more and progress forward in coding.\"\n",
    "\n",
    "print(CodeOne, CodeTwo)"
   ]
  }
 ],
 "metadata": {
  "anaconda-cloud": {},
  "kernelspec": {
   "display_name": "Python 3 (ipykernel)",
   "language": "python",
   "name": "python3"
  },
  "language_info": {
   "codemirror_mode": {
    "name": "ipython",
    "version": 3
   },
   "file_extension": ".py",
   "mimetype": "text/x-python",
   "name": "python",
   "nbconvert_exporter": "python",
   "pygments_lexer": "ipython3",
   "version": "3.12.0"
  }
 },
 "nbformat": 4,
 "nbformat_minor": 4
}

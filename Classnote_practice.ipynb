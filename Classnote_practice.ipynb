{
 "cells": [
  {
   "cell_type": "code",
   "execution_count": null,
   "metadata": {},
   "outputs": [],
   "source": []
  },
  {
   "cell_type": "code",
   "execution_count": null,
   "metadata": {},
   "outputs": [
    {
     "name": "stdout",
     "output_type": "stream",
     "text": [
      "Hello, World!\n"
     ]
    }
   ],
   "source": [
    "print('Hello, World!')"
   ]
  },
  {
   "cell_type": "code",
   "execution_count": null,
   "metadata": {},
   "outputs": [
    {
     "name": "stdout",
     "output_type": "stream",
     "text": [
      "Hello, World!\n"
     ]
    }
   ],
   "source": [
    "mystring = \"Hello, World!\"\n",
    "print(mystring)"
   ]
  },
  {
   "cell_type": "markdown",
   "metadata": {},
   "source": [
    "nothing is running behind this one. The second one is a lot more helpful since it helps with later saving "
   ]
  },
  {
   "cell_type": "code",
   "execution_count": null,
   "metadata": {},
   "outputs": [
    {
     "name": "stdout",
     "output_type": "stream",
     "text": [
      "my favorate number is 3.14\n"
     ]
    }
   ],
   "source": [
    "print(\"my favorate number is\", 3.14)"
   ]
  },
  {
   "cell_type": "code",
   "execution_count": null,
   "metadata": {},
   "outputs": [
    {
     "name": "stdout",
     "output_type": "stream",
     "text": [
      "x is equal to 5\n"
     ]
    }
   ],
   "source": [
    "x = 5\n",
    "y = 10\n",
    "print (\"x is equal to\", x)"
   ]
  },
  {
   "cell_type": "markdown",
   "metadata": {},
   "source": [
    "the print command is always going to give the newest command "
   ]
  },
  {
   "cell_type": "code",
   "execution_count": null,
   "metadata": {},
   "outputs": [
    {
     "name": "stdout",
     "output_type": "stream",
     "text": [
      "x is equal to 6\n"
     ]
    }
   ],
   "source": [
    "x = 6\n",
    "print (\"x is equal to\", x)"
   ]
  },
  {
   "cell_type": "code",
   "execution_count": null,
   "metadata": {},
   "outputs": [
    {
     "name": "stdout",
     "output_type": "stream",
     "text": [
      "x plus y is 16\n"
     ]
    }
   ],
   "source": [
    "x_plus_y = x + y\n",
    "print(\"x plus y is\", x_plus_y)\n"
   ]
  },
  {
   "cell_type": "code",
   "execution_count": null,
   "metadata": {},
   "outputs": [
    {
     "name": "stdout",
     "output_type": "stream",
     "text": [
      "                                  2012\n",
      "\n",
      "      January                   February                   March\n",
      "Mo Tu We Th Fr Sa Su      Mo Tu We Th Fr Sa Su      Mo Tu We Th Fr Sa Su\n",
      "                   1             1  2  3  4  5                1  2  3  4\n",
      " 2  3  4  5  6  7  8       6  7  8  9 10 11 12       5  6  7  8  9 10 11\n",
      " 9 10 11 12 13 14 15      13 14 15 16 17 18 19      12 13 14 15 16 17 18\n",
      "16 17 18 19 20 21 22      20 21 22 23 24 25 26      19 20 21 22 23 24 25\n",
      "23 24 25 26 27 28 29      27 28 29                  26 27 28 29 30 31\n",
      "30 31\n",
      "\n",
      "       April                      May                       June\n",
      "Mo Tu We Th Fr Sa Su      Mo Tu We Th Fr Sa Su      Mo Tu We Th Fr Sa Su\n",
      "                   1          1  2  3  4  5  6                   1  2  3\n",
      " 2  3  4  5  6  7  8       7  8  9 10 11 12 13       4  5  6  7  8  9 10\n",
      " 9 10 11 12 13 14 15      14 15 16 17 18 19 20      11 12 13 14 15 16 17\n",
      "16 17 18 19 20 21 22      21 22 23 24 25 26 27      18 19 20 21 22 23 24\n",
      "23 24 25 26 27 28 29      28 29 30 31               25 26 27 28 29 30\n",
      "30\n",
      "\n",
      "        July                     August                  September\n",
      "Mo Tu We Th Fr Sa Su      Mo Tu We Th Fr Sa Su      Mo Tu We Th Fr Sa Su\n",
      "                   1             1  2  3  4  5                      1  2\n",
      " 2  3  4  5  6  7  8       6  7  8  9 10 11 12       3  4  5  6  7  8  9\n",
      " 9 10 11 12 13 14 15      13 14 15 16 17 18 19      10 11 12 13 14 15 16\n",
      "16 17 18 19 20 21 22      20 21 22 23 24 25 26      17 18 19 20 21 22 23\n",
      "23 24 25 26 27 28 29      27 28 29 30 31            24 25 26 27 28 29 30\n",
      "30 31\n",
      "\n",
      "      October                   November                  December\n",
      "Mo Tu We Th Fr Sa Su      Mo Tu We Th Fr Sa Su      Mo Tu We Th Fr Sa Su\n",
      " 1  2  3  4  5  6  7                1  2  3  4                      1  2\n",
      " 8  9 10 11 12 13 14       5  6  7  8  9 10 11       3  4  5  6  7  8  9\n",
      "15 16 17 18 19 20 21      12 13 14 15 16 17 18      10 11 12 13 14 15 16\n",
      "22 23 24 25 26 27 28      19 20 21 22 23 24 25      17 18 19 20 21 22 23\n",
      "29 30 31                  26 27 28 29 30            24 25 26 27 28 29 30\n",
      "                                                    31\n"
     ]
    }
   ],
   "source": [
    "import calendar#easiest way to use other peole's code \n",
    "year = 2012\n",
    "calendar.prcal(year)"
   ]
  },
  {
   "cell_type": "code",
   "execution_count": null,
   "metadata": {},
   "outputs": [
    {
     "name": "stdout",
     "output_type": "stream",
     "text": [
      "1.772004514666935\n"
     ]
    }
   ],
   "source": [
    "import math\n",
    "math.sqrt(x)\n",
    "mysqrt = math.sqrt(3.14)\n",
    "print(mysqrt)"
   ]
  },
  {
   "cell_type": "code",
   "execution_count": null,
   "metadata": {},
   "outputs": [
    {
     "name": "stdout",
     "output_type": "stream",
     "text": [
      "44.984095 , -93.183226\n",
      "44.984095 -93.183226 62 23\n"
     ]
    }
   ],
   "source": [
    "x =  44.984095\n",
    "y = -93.183226 \n",
    "print (x,\",\",y)\n",
    "x1= 62\n",
    "y1 = 23\n",
    "print(x,y,x1,y1)"
   ]
  },
  {
   "cell_type": "code",
   "execution_count": null,
   "metadata": {},
   "outputs": [
    {
     "name": "stdout",
     "output_type": "stream",
     "text": [
      "1 is less than 2\n"
     ]
    }
   ],
   "source": [
    "if 1<2:\n",
    "    print (\"1 is less than 2\")\n",
    "else: \n",
    "    print('1 is not bigger than 2')"
   ]
  },
  {
   "cell_type": "markdown",
   "metadata": {},
   "source": [
    "^ conditional commands execution "
   ]
  },
  {
   "cell_type": "code",
   "execution_count": null,
   "metadata": {},
   "outputs": [
    {
     "name": "stdout",
     "output_type": "stream",
     "text": [
      "x is less than y\n"
     ]
    }
   ],
   "source": [
    "x = 3\n",
    "y = 8\n",
    "if x==y: \n",
    "    print(' x and y are equal')\n",
    "else: \n",
    "    if x<y: \n",
    "        print('x is less than y')\n",
    "    else:\n",
    "        print('x is greater than y')"
   ]
  },
  {
   "cell_type": "markdown",
   "metadata": {},
   "source": [
    "^nested conditions "
   ]
  },
  {
   "cell_type": "code",
   "execution_count": null,
   "metadata": {},
   "outputs": [
    {
     "name": "stdout",
     "output_type": "stream",
     "text": [
      "Total pay is $4750.0\n"
     ]
    }
   ],
   "source": [
    "hours = 45\n",
    "rate = 100.0\n",
    "pay = hours * rate\n",
    "over_rate = rate *1.5\n",
    "time_over = hours - 40\n",
    "if hours >= 40:\n",
    "    print (f'Total pay is ${40*rate + over_rate*time_over}')\n",
    "else:\n",
    "    print(f'{hours * rate}')\n",
    "# normal pay rate = hours * rate \n",
    "#normalpay = \n",
    "#overtime rate = \n",
    "#if hours <= 40:\n",
    " #   print (f'The pay is ${hours * rate}')\n",
    "#else:\n",
    "#   print(f'The pay is ${overpay}')\n",
    "        "
   ]
  },
  {
   "cell_type": "markdown",
   "metadata": {},
   "source": [
    "^ one of the ways to do it "
   ]
  },
  {
   "cell_type": "code",
   "execution_count": 25,
   "metadata": {},
   "outputs": [
    {
     "ename": "IndentationError",
     "evalue": "unindent does not match any outer indentation level (<tokenize>, line 58)",
     "output_type": "error",
     "traceback": [
      "\u001b[1;36m  File \u001b[1;32m<tokenize>:58\u001b[1;36m\u001b[0m\n\u001b[1;33m    print (f'{person_name}, {greeting}, you came a long way from {distance:.2f} kilometers away to meet here.')\u001b[0m\n\u001b[1;37m    ^\u001b[0m\n\u001b[1;31mIndentationError\u001b[0m\u001b[1;31m:\u001b[0m unindent does not match any outer indentation level\n"
     ]
    }
   ],
   "source": [
    "import random\n",
    "def random_greeting ():#this is an idea from class, wanted to write the random generator \n",
    "    greetings = [\n",
    "        \"it was a pleasure too meet you\",\n",
    "        \"you are so inspiring\",\n",
    "        \"this was amazing meeting you\", \n",
    "        \"looking forward to see you soon\"\n",
    "    ]\n",
    "\n",
    "    select_greet = random.randint(0, len(greetings)-1)\n",
    "    return greetings [select_greet]\n",
    "   # print_greet = greetings[select_greet]\n",
    "    print(random_greeting)\n",
    "\n",
    "random_greeting()#calls out the program that is defined above \n",
    "\n",
    "#create a user pool \n",
    "person1 = (\"Ben\", \"Kainer\", 19, \"Paris\")\n",
    "person2 = (\"Alice\", \"Johnson\", 21, \"New York\")\n",
    "person3 = (\"Mark\", \"Smith\", 20, \"London\")\n",
    "#creating a separate list \n",
    "class_roster = [person1,person2,person3]\n",
    "\n",
    "#test out the code \n",
    "print(person1)\n",
    "\n",
    "#create city coordinates\n",
    "city_coordinates = {\n",
    "    \"Paris\": (48.8566, 2.3522),\n",
    "    \"New York\": (40.7128, -74.0060),\n",
    "    \"London\": (51.5074, -0.1278)\n",
    "}\n",
    "\n",
    "#I want to associate the people with their city coordinates\n",
    "class_roster_with_geo = []\n",
    "for person in class_roster:\n",
    "    name, last_name, age, city = person\n",
    "    lat, lon = city_coordinates[city]\n",
    "    class_roster_with_geo.append((name, last_name, age, city, lat, lon))\n",
    "\n",
    "#now I want to combine the euclid_distance tool from earlier \n",
    "import math\n",
    "minneapolis_coords = (44.9778,-93.2650) \n",
    "def euclid_dis(cord1, cord2):\n",
    "  return math.sqrt(sum((x - y) ** 2 for x, y in zip(coord1, coord2)))\n",
    "\n",
    "#write program to greet with distance info\n",
    "def greet_calc_dist (person_name, class_roster, city_coordinates, minneapolis_coords):\n",
    "   for person in class_roster:\n",
    "      if person [0] == person_name: \n",
    "         city = person[3]\n",
    "         person_coords = city_coordinates[city]\n",
    "         distance = euclid_dis(person_coords, minneapolis_coords)\n",
    "\n",
    "        #random greeting\n",
    "         greeting = random_greeting()\n",
    "\n",
    "        print (f'{person_name}, {greeting}, you came a long way from {distance:.2f} kilometers away to meet here.')\n",
    "         return\n",
    "    print (f'Person named {person_name} not found in class roster')\n",
    "   \n",
    "import random\n",
    "def random_greeting ():#this is an idea from class, wanted to write the random generator \n",
    "    greetings = [\n",
    "        \"it was a pleasure too meet you\",\n",
    "        \"you are so inspiring\",\n",
    "        \"this was amazing meeting you\", \n",
    "        \"looking forward to see you soon\"\n",
    "    ]\n",
    "\n",
    "    select_greet = random.randint(0, len(greetings)-1)\n",
    "    return greetings [select_greet]\n",
    "   #print_greet = greetings[select_greet]\n",
    "    print(random_greeting)\n",
    "\n",
    "random_greeting()#calls out the program that is defined above \n",
    "\n",
    "#create a user pool \n",
    "person1 = (\"Ben\", \"Kainer\", 19, \"Paris\")\n",
    "person2 = (\"Alice\", \"Johnson\", 21, \"New York\")\n",
    "person3 = (\"Mark\", \"Smith\", 20, \"London\")\n",
    "#creating a separate list \n",
    "class_roster = [person1,person2,person3]\n",
    "\n",
    "#test out the code \n",
    "print(person1)\n",
    "\n",
    "#create city coordinates\n",
    "city_coordinates = {\n",
    "    \"Paris\": (48.8566, 2.3522),\n",
    "    \"New York\": (40.7128, -74.0060),\n",
    "    \"London\": (51.5074, -0.1278)\n",
    "}\n",
    "\n",
    "#I want to associate the people with their city coordinates\n",
    "class_roster_with_geo = []\n",
    "for person in class_roster:\n",
    "    name, last_name, age, city = person\n",
    "    lat, lon = city_coordinates[city]\n",
    "    class_roster_with_geo.append((name, last_name, age, city, lat, lon))\n",
    "\n",
    "#now I want to combine the euclid_distance tool from earlier \n",
    "import math\n",
    "minneapolis_coords = (44.9778,-93.2650) \n",
    "def euclid_dis(cord1, cord2):\n",
    "  return math.sqrt(sum((x - y) ** 2 for x, y in zip(coord1, coord2)))"
   ]
  },
  {
   "cell_type": "code",
   "execution_count": 11,
   "metadata": {},
   "outputs": [],
   "source": [
    "#write program to greet with distance info\n",
    "def greet_calc_dist (person_name, class_roster, city_coordinates, minneapolis_coords):\n",
    "   for person in class_roster:\n",
    "      if person [0] == person_name: \n",
    "         city = person[3]\n",
    "         person_coords = city_coordinates[city]\n",
    "         distance = euclid_dis(person_coords, minneapolis_coords)\n",
    "\n",
    "        #random greeting\n",
    "         greeting = random_greeting()\n",
    "\n",
    "         print (f'{person_name}, {greeting}, you came a long way from {distance:.2f} kilometers away to meet here.')\n",
    "         return\n",
    "   print(f'Person named {person_name} not found in class roster')"
   ]
  },
  {
   "cell_type": "markdown",
   "metadata": {},
   "source": []
  },
  {
   "cell_type": "code",
   "execution_count": null,
   "metadata": {},
   "outputs": [],
   "source": [
    "def greeting (first, last):#def writes a function that prevents futuere copy pasting \n",
    "    print(\"Helloo\", first, last)\n",
    "    print(\"\")\n",
    "    print(\"It is nice to meet you\")\n",
    "\n",
    "greeting(\"Jess\",\"ford\")"
   ]
  },
  {
   "cell_type": "code",
   "execution_count": null,
   "metadata": {},
   "outputs": [
    {
     "name": "stdout",
     "output_type": "stream",
     "text": [
      "2.23606797749979\n"
     ]
    }
   ],
   "source": [
    "import math\n",
    "def euclid (x1, x2,y1,y2):\n",
    "    \n",
    "    distance = math.sqrt((x2-x1)**2+(y2-y1)**2)\n",
    "    print(distance)\n",
    "\n",
    "euclid(1,3,8,9)"
   ]
  },
  {
   "cell_type": "code",
   "execution_count": null,
   "metadata": {},
   "outputs": [
    {
     "name": "stdout",
     "output_type": "stream",
     "text": [
      "The Euclidean distance between A and B is: 2.23606797749979\n"
     ]
    }
   ],
   "source": [
    "import math\n",
    "\n",
    "# Dictionary to store points\n",
    "points = {}\n",
    "\n",
    "def save_point(name, x, y):\n",
    "    points[name] = (x, y)\n",
    "\n",
    "def euclid(point1, point2):\n",
    "    x1, y1 = points.get(point1, (0, 0))\n",
    "    x2, y2 = points.get(point2, (0, 0))\n",
    "\n",
    "    distance = math.sqrt((x2 - x1)**2 + (y2 - y1)**2)\n",
    "    print(f\"The Euclidean distance between {point1} and {point2} is: {distance}\")\n",
    "\n",
    "# Example usage\n",
    "save_point(\"A\", 1, 8)\n",
    "save_point(\"B\", 3, 9)\n",
    "\n",
    "euclid(\"A\", \"B\")\n"
   ]
  },
  {
   "cell_type": "code",
   "execution_count": null,
   "metadata": {},
   "outputs": [
    {
     "ename": "ModuleNotFoundError",
     "evalue": "No module named 'requests'",
     "output_type": "error",
     "traceback": [
      "\u001b[1;31m---------------------------------------------------------------------------\u001b[0m",
      "\u001b[1;31mModuleNotFoundError\u001b[0m                       Traceback (most recent call last)",
      "Cell \u001b[1;32mIn[2], line 2\u001b[0m\n\u001b[0;32m      1\u001b[0m \u001b[38;5;28;01mimport\u001b[39;00m \u001b[38;5;21;01mmath\u001b[39;00m\n\u001b[1;32m----> 2\u001b[0m \u001b[38;5;28;01mimport\u001b[39;00m \u001b[38;5;21;01mrequests\u001b[39;00m\n\u001b[0;32m      4\u001b[0m \u001b[38;5;66;03m# OpenCage Geocoding API key (replace 'YOUR_API_KEY' with your actual API key)\u001b[39;00m\n\u001b[0;32m      5\u001b[0m API_KEY \u001b[38;5;241m=\u001b[39m \u001b[38;5;124m'\u001b[39m\u001b[38;5;124mYOUR_API_KEY\u001b[39m\u001b[38;5;124m'\u001b[39m\n",
      "\u001b[1;31mModuleNotFoundError\u001b[0m: No module named 'requests'"
     ]
    }
   ],
   "source": [
    "import math\n",
    "import requests\n",
    "\n",
    "# OpenCage Geocoding API key (replace 'YOUR_API_KEY' with your actual API key)\n",
    "API_KEY = 'YOUR_API_KEY'\n",
    "\n",
    "# Dictionary to store points\n",
    "points = {}\n",
    "\n",
    "def save_point(name, latitude, longitude):\n",
    "    points[name] = (latitude, longitude)\n",
    "\n",
    "def get_coordinates(city):\n",
    "    url = f'https://api.opencagedata.com/geocode/v1/json?q={city}&key={API_KEY}'\n",
    "    response = requests.get(url)\n",
    "    \n",
    "    if response.status_code == 200:\n",
    "        data = response.json()\n",
    "        first_result = data.get('results', [])[0]\n",
    "        \n",
    "        if first_result:\n",
    "            lat = first_result['geometry']['lat']\n",
    "            lon = first_result['geometry']['lng']\n",
    "            return lat, lon\n",
    "        else:\n",
    "            print(f\"Couldn't retrieve coordinates for {city}.\")\n",
    "            return None\n",
    "    else:\n",
    "        print(f\"Error fetching data for {city}. Status code: {response.status_code}\")\n",
    "        return None\n",
    "\n",
    "def euclid(point1, point2):\n",
    "    x1, y1 = points.get(point1, (0, 0))\n",
    "    x2, y2 = points.get(point2, (0, 0))\n",
    "\n",
    "    distance = math.sqrt((x2 - x1)**2 + (y2 - y1)**2)\n",
    "    print(f\"The Euclidean distance between {point1} and {point2} is: {distance}\")\n",
    "\n",
    "# Example usage\n",
    "city1 = \"New York\"\n",
    "city2 = \"San Francisco\"\n",
    "\n",
    "# Fetch and save coordinates for cities\n",
    "save_point(city1, *get_coordinates(city1))\n",
    "save_point(city2, *get_coordinates(city2))\n",
    "\n",
    "# Calculate Euclidean distance\n",
    "euclid(city1, city2)\n"
   ]
  },
  {
   "cell_type": "code",
   "execution_count": null,
   "metadata": {},
   "outputs": [
    {
     "name": "stdout",
     "output_type": "stream",
     "text": [
      "requests module is installed.\n"
     ]
    }
   ],
   "source": [
    "try:\n",
    "    import requests\n",
    "    print(\"requests module is installed.\")\n",
    "except ImportError:\n",
    "    print(\"requests module is not installed.\")\n"
   ]
  },
  {
   "cell_type": "code",
   "execution_count": null,
   "metadata": {},
   "outputs": [],
   "source": []
  }
 ],
 "metadata": {
  "kernelspec": {
   "display_name": "Python 3",
   "language": "python",
   "name": "python3"
  },
  "language_info": {
   "codemirror_mode": {
    "name": "ipython",
    "version": 3
   },
   "file_extension": ".py",
   "mimetype": "text/x-python",
   "name": "python",
   "nbconvert_exporter": "python",
   "pygments_lexer": "ipython3",
   "version": "3.11.5"
  }
 },
 "nbformat": 4,
 "nbformat_minor": 2
}

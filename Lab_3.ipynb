{
 "cells": [
  {
   "cell_type": "markdown",
   "metadata": {},
   "source": [
    "# Principles of Geocomputing: Lab 3 (4 points)"
   ]
  },
  {
   "cell_type": "markdown",
   "metadata": {},
   "source": [
    "## 1. Lab information and submission preparation"
   ]
  },
  {
   "cell_type": "code",
   "execution_count": 131,
   "metadata": {},
   "outputs": [],
   "source": [
    "your_name = \"Jiale Zhang\"\n",
    "your_intid = \"Zhan8462\"\n",
    "hours_spent = 1.5\n",
    "\n",
    "who_helped_you = \"N/a\"\n",
    "who_you_helped = \"N/a\"\n",
    "genAI_helped_me = \"5%\" #for this lab the documentations are more helpful. "
   ]
  },
  {
   "cell_type": "markdown",
   "metadata": {},
   "source": [
    "## 2. Basic Warm-up"
   ]
  },
  {
   "cell_type": "markdown",
   "metadata": {},
   "source": [
    "### 2a. Add numbers from strings\n",
    "\n",
    "Often you may find yourself with numeric data stored as a string instead of an <tt>**int**</tt> or <tt>**float**</tt>. Use casting to add `bushels_2015` and `bushels_2016` and save the result to a variable named `bushels_tot`, then call `print` to output the following text.\n",
    "\n",
    "<blockquote>There were # total bushels produced in 2015 and 2016</blockquote>\n",
    "\n",
    "Use your `bushels_2016` variable to produce the value where the \"#\" is."
   ]
  },
  {
   "cell_type": "code",
   "execution_count": 108,
   "metadata": {
    "tags": []
   },
   "outputs": [
    {
     "name": "stdout",
     "output_type": "stream",
     "text": [
      "205\n"
     ]
    },
    {
     "data": {
      "text/plain": [
       "'There were 205 total bushels produced in 2015 and 2016.'"
      ]
     },
     "execution_count": 108,
     "metadata": {},
     "output_type": "execute_result"
    }
   ],
   "source": [
    "bushels_2015 = 95\n",
    "bushels_2016 = 110\n",
    "bushels_tot = bushels_2015 + bushels_2016\n",
    "print(bushels_tot)\n",
    "f'There were {bushels_tot} total bushels produced in 2015 and 2016.'\n",
    "\n"
   ]
  },
  {
   "cell_type": "markdown",
   "metadata": {},
   "source": [
    "### 2b. Conditional print\n",
    "\n",
    "Using the original `bushels_2015` and `bushels_2016` variable values and types (strings) from above, construct an <tt>**if-else**</tt> conditional that prints either\n",
    "\n",
    "<blockquote>There were more bushels produced in 2015 than 2016 (# in 2015, # in 2016)</blockquote>\n",
    "\n",
    "or\n",
    "\n",
    "<blockquote>&nbsp;&nbsp;There were more bushels produced in 2016 than 2015 (# in 2016, # in 2015)</blockquote>\n",
    "\n",
    "depending on which is greater. Include the bushel counts for the appropriate year where you see the \"#\" in the example output, using the variables already provided \n",
    "\n",
    "IMPORTANTE NOTE! Don't type the numbers into your `print` statement. Instead use the variables directly so that if the values of the variables change, the print statement will print out their correct value.\n",
    "\n",
    "You don't need to handle the case where the values for 2015 and 2016 are identical, but think about how you might handle that in the future."
   ]
  },
  {
   "cell_type": "code",
   "execution_count": 109,
   "metadata": {},
   "outputs": [
    {
     "name": "stdout",
     "output_type": "stream",
     "text": [
      "There were more bushels produced in 2016 than 2015 (110, 95).\n"
     ]
    }
   ],
   "source": [
    "if bushels_2016 > bushels_2015:\n",
    "    print(f'There were more bushels produced in 2016 than 2015 ({bushels_2016}, {bushels_2015}).')\n",
    "else:\n",
    "    print(f'There were more bushels produced in 2015 than 2016 ({bushels_2015}, {bushels_2016}).')"
   ]
  },
  {
   "cell_type": "code",
   "execution_count": 110,
   "metadata": {},
   "outputs": [],
   "source": [
    "# [IMPORTANT]\n",
    "# Run this code cell for the next two questions. \n",
    "\n",
    "# Do not delete this cell or alter it. \n",
    "countries = [\"Peru\", \"United States\", \"South Korea\", \"Barbados\", \"China\", \"Chile\", \"Germany\", \"Morocco\",\n",
    "             \"Thailand\", \"Japan\", \"Spain\", \"China\", \"South Korea\", \"Russia\", \"South Korea\", \"South Korea\",\n",
    "             \"Mexico\", \"Oman\", \"Kenya\", \"Canada\", \"Canada\", \"Germany\", \"Bulgaria\", \"Mozambique\", \"Zambia\", \"Peru\",\n",
    "             \"Peru\", \"Chile\", \"Cuba\", \"Mexico\", \"Japan\", \"France\", \"Russia\", \"India\", \"Thailand\", \"Albania\", \"Oman\"\n",
    "            \"Algeria\", \"Angola\", \"Belize\", \"Bhutan\", \"Kenya\", \"Bolivia\", \"Brazil\", \"Chad\", \"Belgium\", \"Cameroon\", \"Fiji\"]"
   ]
  },
  {
   "cell_type": "code",
   "execution_count": 111,
   "metadata": {},
   "outputs": [
    {
     "name": "stdout",
     "output_type": "stream",
     "text": [
      "Peru\n",
      "United States\n",
      "South Korea\n",
      "Barbados\n",
      "China\n",
      "Chile\n",
      "Germany\n",
      "Morocco\n",
      "Thailand\n",
      "Japan\n",
      "Spain\n",
      "China\n",
      "South Korea\n",
      "Russia\n",
      "South Korea\n",
      "South Korea\n",
      "Mexico\n",
      "Oman\n",
      "Kenya\n",
      "Canada\n",
      "Canada\n",
      "Germany\n",
      "Bulgaria\n",
      "Mozambique\n",
      "Zambia\n",
      "Peru\n",
      "Peru\n",
      "Chile\n",
      "Cuba\n",
      "Mexico\n",
      "Japan\n",
      "France\n",
      "Russia\n",
      "India\n",
      "Thailand\n",
      "Albania\n",
      "OmanAlgeria\n",
      "Angola\n",
      "Belize\n",
      "Bhutan\n",
      "Kenya\n",
      "Bolivia\n",
      "Brazil\n",
      "Chad\n",
      "Belgium\n",
      "Cameroon\n",
      "Fiji\n"
     ]
    }
   ],
   "source": [
    "# 2c.\n",
    "# Print each country on a new line using the countries list.\n",
    "# Hint: Don't overthink this one.\n",
    "\n",
    "for country in countries:\n",
    "    print(country)\n"
   ]
  },
  {
   "cell_type": "code",
   "execution_count": 112,
   "metadata": {},
   "outputs": [
    {
     "name": "stdout",
     "output_type": "stream",
     "text": [
      "Albania\n",
      "Angola\n",
      "Barbados\n",
      "Belgium\n",
      "Belize\n",
      "Bhutan\n",
      "Bolivia\n",
      "Brazil\n",
      "Bulgaria\n",
      "Cameroon\n",
      "Canada\n",
      "Canada\n",
      "Chad\n",
      "Chile\n",
      "Chile\n",
      "China\n",
      "China\n",
      "Cuba\n",
      "Fiji\n",
      "France\n",
      "Germany\n",
      "Germany\n",
      "India\n",
      "Japan\n",
      "Japan\n",
      "Kenya\n",
      "Kenya\n",
      "Mexico\n",
      "Mexico\n",
      "Morocco\n",
      "Mozambique\n",
      "Oman\n",
      "OmanAlgeria\n",
      "Peru\n",
      "Peru\n",
      "Peru\n",
      "Russia\n",
      "Russia\n",
      "South Korea\n",
      "South Korea\n",
      "South Korea\n",
      "South Korea\n",
      "Spain\n",
      "Thailand\n",
      "Thailand\n",
      "United States\n",
      "Zambia\n"
     ]
    }
   ],
   "source": [
    "# 2d.\n",
    "# That was pretty cool. Now sort the countries list in **alphabetical order**, \n",
    "# store it into a new list named sorted_countries, \n",
    "# then print each country on each line. \n",
    "# (Hint: Python has several built-in methods for lists, look at the documentation)\n",
    "\n",
    "sorted_countries = sorted(countries)\n",
    "for country in sorted_countries:\n",
    "    print(country)\n",
    "\n"
   ]
  },
  {
   "cell_type": "markdown",
   "metadata": {},
   "source": [
    "## 3. Solving Problems\n",
    "In this section, you will tackle problems to build your spatial thinking and computational thinking abilities."
   ]
  },
  {
   "cell_type": "markdown",
   "metadata": {},
   "source": [
    "### 3a. Working with GeoJSON data from class\n",
    "\n",
    "Let's practice working with GeoJSON data, which is one format for vector data. This question will help you practice getting values out of lists and dictionaries."
   ]
  },
  {
   "cell_type": "markdown",
   "metadata": {},
   "source": [
    "Using the *vec* data example from class, **write a function** that accepts a GeoJSON dictionary and prints out the following:\n",
    "  - Geometry Type: (what type of vector data is it?)\n",
    "  - ID of the feature: (what is the unique identifier for the feature?)\n",
    "  - City name: (what is the city name for the feature?)"
   ]
  },
  {
   "cell_type": "code",
   "execution_count": 113,
   "metadata": {},
   "outputs": [
    {
     "name": "stdout",
     "output_type": "stream",
     "text": [
      "data type: FeatureCollection\n",
      "data id: Adak\n",
      "city: Adak\n"
     ]
    }
   ],
   "source": [
    "vec = {\n",
    "    \"type\": \"FeatureCollection\",\n",
    "    \"features\": [{\n",
    "        \"geometry\": {\n",
    "            \"type\": \"Point\",\n",
    "            \"coordinates\": [-176.633, 51.883]\n",
    "        },\n",
    "        \"type\": \"Feature\",\n",
    "        \"properties\": {\n",
    "            \"wikipedia\": \"Adak,_Alaska\",\n",
    "            \"city\": \"Adak\"\n",
    "        },\n",
    "        \"id\": \"Adak\"\n",
    "    }]\n",
    "}\n",
    "\n",
    "# Insert your function and code below\n",
    "\n",
    "def my_data(vec: list)-> str:#input for the vector data lists \n",
    "    print(\"data type:\", vec['type'])\n",
    "    print(\"data id:\", vec['features'][0]['id'])#[0]['type'])\n",
    "    print(\"city:\", vec['features'][0]['properties']['city'])\n",
    "  \n",
    "\n",
    "my_data(vec)#['properties'][0]['city'])\n"
   ]
  },
  {
   "cell_type": "markdown",
   "metadata": {},
   "source": [
    "### 3b. Raster Calculator\n",
    "\n",
    "You have written basic calculators. Now time to make it geospatial! Write a raster calculator that can add OR subtract two rasters represented as nested lists. We will help you by creating the output raster in the function. You can also see that the `raster_calculator` function accepts the 2 rasters and an `operation_string` with 2 examples \"+\" and \"-\"."
   ]
  },
  {
   "cell_type": "code",
   "execution_count": 114,
   "metadata": {},
   "outputs": [
    {
     "name": "stdout",
     "output_type": "stream",
     "text": [
      "[[1, 2, 1, 2], [3, 4, 3, 4], [1, 2, 1, 2], [3, 4, 3, 4], [2, 1, 2, 1], [4, 3, 4, 3], [4, 3, 4, 3], [2, 1, 2, 1]]\n",
      "Output raster is [[3, 3, 3, 3], [7, 7, 7, 7], [5, 5, 5, 5], [5, 5, 5, 5]]\n"
     ]
    }
   ],
   "source": [
    "my_raster_1 = [ [1,2,1,2], \n",
    "                [3,4,3,4], \n",
    "                [1,2,1,2], \n",
    "                [3,4,3,4] ]\n",
    "\n",
    "my_raster_2 = [ [2,1,2,1], \n",
    "                [4,3,4,3], \n",
    "                [4,3,4,3], \n",
    "                [2,1,2,1] ]\n",
    "\n",
    "output_raster = my_raster_1 + my_raster_2\n",
    "print(output_raster)\n",
    "# Define which operation you want to apply\n",
    "# By commenting/uncommenting the operation\n",
    "operation = \"+\"\n",
    "#operation=\"-\"\n",
    "\n",
    "def raster_calculator(raster1, raster2, operation_string):\n",
    "    output_raster = []\n",
    "    # Insert your code here that modified output_raster to the correct values based on the operation_string\n",
    "    for r in range(len(raster1)):\n",
    "        row = []\n",
    "        for c in range(len(raster1[0])):\n",
    "            row.append(raster1[r][c] + raster2[r][c])\n",
    "        output_raster.append(row)\n",
    "    return output_raster\n",
    "    \n",
    "output_raster = raster_calculator(my_raster_1, my_raster_2, operation)\n",
    "\n",
    "print(\"Output raster is\", output_raster)\n"
   ]
  },
  {
   "cell_type": "markdown",
   "metadata": {},
   "source": [
    "## 4. Reps (Repetitve actions to build your comfort levels)"
   ]
  },
  {
   "cell_type": "markdown",
   "metadata": {},
   "source": [
    "This series of exercises is designed to build your comfort writing Python functions."
   ]
  },
  {
   "cell_type": "markdown",
   "metadata": {},
   "source": [
    "### Reps for Conditionals\n",
    "\n",
    "This section is all about practicing conditionals. \n",
    "\n",
    "Use these following variables for this section.\n",
    "* x = 2\n",
    "* y = 4\n",
    "* z = 6"
   ]
  },
  {
   "cell_type": "markdown",
   "metadata": {},
   "source": [
    "Define the variables and assign the values listed above. "
   ]
  },
  {
   "cell_type": "code",
   "execution_count": 115,
   "metadata": {},
   "outputs": [],
   "source": [
    "x = 2\n",
    "y = 4\n",
    "z = 6"
   ]
  },
  {
   "cell_type": "markdown",
   "metadata": {},
   "source": [
    "Use one or more conditionals to check whether variable **x** is less than variable **y**. Print the results."
   ]
  },
  {
   "cell_type": "code",
   "execution_count": 116,
   "metadata": {},
   "outputs": [
    {
     "name": "stdout",
     "output_type": "stream",
     "text": [
      "y > x because 4 > 2.\n"
     ]
    }
   ],
   "source": [
    "if y > x:\n",
    "    print(f'y > x because {y} > {x}.')\n",
    "else: \n",
    "    print(\"y is not larger than x\")"
   ]
  },
  {
   "cell_type": "markdown",
   "metadata": {},
   "source": [
    "Use a conditional(s) to check whether variable **z** is greater than variable **y** and that **z** is smaller than the number **10**. Print the results."
   ]
  },
  {
   "cell_type": "code",
   "execution_count": 117,
   "metadata": {},
   "outputs": [
    {
     "name": "stdout",
     "output_type": "stream",
     "text": [
      "Z > Y because 6 > 4, and z is smaller than 10.\n"
     ]
    }
   ],
   "source": [
    "if z > y and z<10: \n",
    "    print(f'Z > Y because {z} > {y}, and z is smaller than 10.')"
   ]
  },
  {
   "cell_type": "markdown",
   "metadata": {},
   "source": [
    "Add variable **x** and **y** together and use a conditional to compare it to variable **z**. Print the results which include (in plain text) which condition you are using to compare the sum of x and y to the variable z."
   ]
  },
  {
   "cell_type": "code",
   "execution_count": 118,
   "metadata": {},
   "outputs": [
    {
     "name": "stdout",
     "output_type": "stream",
     "text": [
      "sum of x and y, 6 is = z because 6 = 6\n"
     ]
    }
   ],
   "source": [
    "if x !=0 and y != 0:\n",
    "    xy = x + y\n",
    "if xy > z:\n",
    "    print(f'sum of x and y, {xy}, is > than z becuase {xy} > {z}')\n",
    "elif xy == z:\n",
    "    print(f'sum of x and y, {xy} is = z because {xy} = {z}')\n",
    "else:\n",
    "    print(f'sum of xy is smaller than z')"
   ]
  },
  {
   "cell_type": "markdown",
   "metadata": {},
   "source": [
    "The condition I'm using to add x and y together is that if they both did not equal to 0. "
   ]
  },
  {
   "cell_type": "markdown",
   "metadata": {},
   "source": [
    "## 5. Stretch Exercise. Keep moving forward by solving this problem."
   ]
  },
  {
   "cell_type": "markdown",
   "metadata": {},
   "source": [
    "### Manhattan Distance\n",
    "\n",
    "We have looked at Euclidean distance already. Now let's look at Manhattan distance, one of several names for a distance that could be described as that of the sum of the legs of a right triangle instead of the hypotenuse. \n",
    "\n",
    "For instance, if we want to get from (0,0) to (3,4), instead of going directly between the two points (distance=5), we would go from (0,0) to (3,0) (distance=3) and then from (3,0) to (3,4) (distance=4) for a total distance of 7, the Manhattan distance. \n",
    "\n",
    "In the code below, fill in the function that calculates the manhattan distance between two points. Rather than hard coding the locations ask the user for the coordinate information. Specifically, for each coordinate in the two points, define a variable that uses the **input()** statement to receive input from the user. Print the calculated manhattan distance between the points in an easy to read fashion.\n",
    "\n",
    "**Important note** Notice that the *manhattan_distance* function accepts two parameters, point1 and point2. However, each point will need an x and y value. Use your new knowledge about data structures to accept two points. This differs from our earlier solutions where we accepted four parameters, namely x1,y1,x2,y2. "
   ]
  },
  {
   "cell_type": "code",
   "execution_count": 130,
   "metadata": {},
   "outputs": [
    {
     "name": "stdout",
     "output_type": "stream",
     "text": [
      "[1, 1] [1, 4]\n",
      "the manhattan distance between [1, 1] and [1, 4] is 3.\n"
     ]
    }
   ],
   "source": [
    "# Function that calculates the Manhattan Distance between two points\n",
    "def manhattan_distance(point1:list, point2:list): \n",
    "    \"\"\"The points should be taken in as [x,y],[x,y]\"\"\"\n",
    "# Ask the user for the coordinate information\n",
    "    print(point1,point2)#check for 2 points \n",
    "    total = 0\n",
    "    for i in range(len(point1)):\n",
    "        total += abs(point1[i] - point2[i])\n",
    "    print(f'the manhattan distance between {point1} and {point2} is {total}.')\n",
    "\n",
    "\n",
    "\n",
    "\n",
    "manhattan_distance([1,1],[1,4])"
   ]
  },
  {
   "cell_type": "markdown",
   "metadata": {},
   "source": [
    "## 6. Keep going\n",
    "\n",
    "In the cell below, write a few comments regarding the labs. Please write a few sentences to tell us how the labs are going, if something could be improved or if something is working extremely well. I won't be grading the content, but it will assist in the creation of future labs. I would recommend using a markdown cell. A cell can be converted to markdown by clicking on the cell, then clicking on **Cell** in the menu, then clicking on **Cell Type**, then choosing **Markdown**. For text, you do not need to use any symbols and can just write. For more information on Markdown, see [here.](https://github.com/adam-p/markdown-here/wiki/Markdown-Cheatsheet)"
   ]
  },
  {
   "cell_type": "markdown",
   "metadata": {},
   "source": [
    "    I think the labs has been pretty good, the lab feels a lot more relaxing than the MVP for sure. I very much appreciated the structure of these labs and how I get hints along the way. Overall I think they are really helpful for me! On top of that, taking notes from lecture really helps me during lab that I can just go back and learn from notes. "
   ]
  }
 ],
 "metadata": {
  "anaconda-cloud": {},
  "kernelspec": {
   "display_name": "Python 3 (ipykernel)",
   "language": "python",
   "name": "python3"
  },
  "language_info": {
   "codemirror_mode": {
    "name": "ipython",
    "version": 3
   },
   "file_extension": ".py",
   "mimetype": "text/x-python",
   "name": "python",
   "nbconvert_exporter": "python",
   "pygments_lexer": "ipython3",
   "version": "3.11.5"
  }
 },
 "nbformat": 4,
 "nbformat_minor": 4
}

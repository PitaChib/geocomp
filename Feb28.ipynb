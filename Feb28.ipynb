{
 "cells": [
  {
   "cell_type": "markdown",
   "metadata": {},
   "source": [
    "Feb 28"
   ]
  },
  {
   "cell_type": "code",
   "execution_count": 8,
   "metadata": {},
   "outputs": [],
   "source": [
    "import fiona\n",
    "import folium\n",
    "import json"
   ]
  },
  {
   "cell_type": "code",
   "execution_count": 9,
   "metadata": {},
   "outputs": [
    {
     "name": "stdout",
     "output_type": "stream",
     "text": [
      "Extraction completed successfully.\n"
     ]
    }
   ],
   "source": [
    "import zipfile\n",
    "\n",
    "destination_directory = r'C:\\jessi\\Documents\\UMN\\2023-2024\\GeoComp\\geocomp\\Scripts'\n",
    "\n",
    "try:\n",
    "    with zipfile.ZipFile('cb_2015_27_tract_500k.zip', 'r') as zip_ref:\n",
    "        zip_ref.extractall(destination_directory)\n",
    "    print(\"Extraction completed successfully.\")\n",
    "except Exception as e:\n",
    "    print(f\"An error occurred during extraction: {e}\")\n"
   ]
  },
  {
   "cell_type": "code",
   "execution_count": 26,
   "metadata": {},
   "outputs": [
    {
     "name": "stdout",
     "output_type": "stream",
     "text": [
      "smallest land area is none, replacing with= 35364991\n",
      "smallest feature = <fiona.model.Feature object at 0x00000264635C0DD0>\n",
      "smallest_land_area = 0\n"
     ]
    },
    {
     "data": {
      "text/html": [
       "<div style=\"width:100%;\"><div style=\"position:relative;width:100%;height:0;padding-bottom:60%;\"><span style=\"color:#565656\">Make this Notebook Trusted to load map: File -> Trust Notebook</span><iframe srcdoc=\"&lt;!DOCTYPE html&gt;\n",
       "&lt;html&gt;\n",
       "&lt;head&gt;\n",
       "    \n",
       "    &lt;meta http-equiv=&quot;content-type&quot; content=&quot;text/html; charset=UTF-8&quot; /&gt;\n",
       "    \n",
       "        &lt;script&gt;\n",
       "            L_NO_TOUCH = false;\n",
       "            L_DISABLE_3D = false;\n",
       "        &lt;/script&gt;\n",
       "    \n",
       "    &lt;style&gt;html, body {width: 100%;height: 100%;margin: 0;padding: 0;}&lt;/style&gt;\n",
       "    &lt;style&gt;#map {position:absolute;top:0;bottom:0;right:0;left:0;}&lt;/style&gt;\n",
       "    &lt;script src=&quot;https://cdn.jsdelivr.net/npm/leaflet@1.9.3/dist/leaflet.js&quot;&gt;&lt;/script&gt;\n",
       "    &lt;script src=&quot;https://code.jquery.com/jquery-3.7.1.min.js&quot;&gt;&lt;/script&gt;\n",
       "    &lt;script src=&quot;https://cdn.jsdelivr.net/npm/bootstrap@5.2.2/dist/js/bootstrap.bundle.min.js&quot;&gt;&lt;/script&gt;\n",
       "    &lt;script src=&quot;https://cdnjs.cloudflare.com/ajax/libs/Leaflet.awesome-markers/2.0.2/leaflet.awesome-markers.js&quot;&gt;&lt;/script&gt;\n",
       "    &lt;link rel=&quot;stylesheet&quot; href=&quot;https://cdn.jsdelivr.net/npm/leaflet@1.9.3/dist/leaflet.css&quot;/&gt;\n",
       "    &lt;link rel=&quot;stylesheet&quot; href=&quot;https://cdn.jsdelivr.net/npm/bootstrap@5.2.2/dist/css/bootstrap.min.css&quot;/&gt;\n",
       "    &lt;link rel=&quot;stylesheet&quot; href=&quot;https://netdna.bootstrapcdn.com/bootstrap/3.0.0/css/bootstrap.min.css&quot;/&gt;\n",
       "    &lt;link rel=&quot;stylesheet&quot; href=&quot;https://cdn.jsdelivr.net/npm/@fortawesome/fontawesome-free@6.2.0/css/all.min.css&quot;/&gt;\n",
       "    &lt;link rel=&quot;stylesheet&quot; href=&quot;https://cdnjs.cloudflare.com/ajax/libs/Leaflet.awesome-markers/2.0.2/leaflet.awesome-markers.css&quot;/&gt;\n",
       "    &lt;link rel=&quot;stylesheet&quot; href=&quot;https://cdn.jsdelivr.net/gh/python-visualization/folium/folium/templates/leaflet.awesome.rotate.min.css&quot;/&gt;\n",
       "    \n",
       "            &lt;meta name=&quot;viewport&quot; content=&quot;width=device-width,\n",
       "                initial-scale=1.0, maximum-scale=1.0, user-scalable=no&quot; /&gt;\n",
       "            &lt;style&gt;\n",
       "                #map_645747f7efceea034ee32d387306fba6 {\n",
       "                    position: relative;\n",
       "                    width: 100.0%;\n",
       "                    height: 100.0%;\n",
       "                    left: 0.0%;\n",
       "                    top: 0.0%;\n",
       "                }\n",
       "                .leaflet-container { font-size: 1rem; }\n",
       "            &lt;/style&gt;\n",
       "        \n",
       "&lt;/head&gt;\n",
       "&lt;body&gt;\n",
       "    \n",
       "    \n",
       "            &lt;div class=&quot;folium-map&quot; id=&quot;map_645747f7efceea034ee32d387306fba6&quot; &gt;&lt;/div&gt;\n",
       "        \n",
       "&lt;/body&gt;\n",
       "&lt;script&gt;\n",
       "    \n",
       "    \n",
       "            var map_645747f7efceea034ee32d387306fba6 = L.map(\n",
       "                &quot;map_645747f7efceea034ee32d387306fba6&quot;,\n",
       "                {\n",
       "                    center: [45.0, -98.78],\n",
       "                    crs: L.CRS.EPSG3857,\n",
       "                    zoom: 6,\n",
       "                    zoomControl: true,\n",
       "                    preferCanvas: false,\n",
       "                }\n",
       "            );\n",
       "\n",
       "            \n",
       "\n",
       "        \n",
       "    \n",
       "            var tile_layer_c0eb89a77d74f36f86c239371b3fa2e2 = L.tileLayer(\n",
       "                &quot;https://tile.openstreetmap.org/{z}/{x}/{y}.png&quot;,\n",
       "                {&quot;attribution&quot;: &quot;\\u0026copy; \\u003ca href=\\&quot;https://www.openstreetmap.org/copyright\\&quot;\\u003eOpenStreetMap\\u003c/a\\u003e contributors&quot;, &quot;detectRetina&quot;: false, &quot;maxNativeZoom&quot;: 19, &quot;maxZoom&quot;: 19, &quot;minZoom&quot;: 0, &quot;noWrap&quot;: false, &quot;opacity&quot;: 1, &quot;subdomains&quot;: &quot;abc&quot;, &quot;tms&quot;: false}\n",
       "            );\n",
       "        \n",
       "    \n",
       "            tile_layer_c0eb89a77d74f36f86c239371b3fa2e2.addTo(map_645747f7efceea034ee32d387306fba6);\n",
       "        \n",
       "    \n",
       "\n",
       "        function geo_json_46f1accc55f4060c8c4d2d60bf3e11a7_onEachFeature(feature, layer) {\n",
       "            layer.on({\n",
       "            });\n",
       "        };\n",
       "        var geo_json_46f1accc55f4060c8c4d2d60bf3e11a7 = L.geoJson(null, {\n",
       "                onEachFeature: geo_json_46f1accc55f4060c8c4d2d60bf3e11a7_onEachFeature,\n",
       "            \n",
       "        });\n",
       "\n",
       "        function geo_json_46f1accc55f4060c8c4d2d60bf3e11a7_add (data) {\n",
       "            geo_json_46f1accc55f4060c8c4d2d60bf3e11a7\n",
       "                .addData(data);\n",
       "        }\n",
       "            geo_json_46f1accc55f4060c8c4d2d60bf3e11a7_add({&quot;geometry&quot;: {&quot;coordinates&quot;: [[[[-89.889197, 47.866507], [-89.888823, 47.866803999999995], [-89.888111, 47.866848999999995], [-89.886515, 47.866712], [-89.885531, 47.866757], [-89.88445887393729, 47.86709983975069], [-89.888587, 47.865167427355196], [-89.889164, 47.865708], [-89.888926, 47.866096], [-89.889197, 47.866507]]], [[[-89.937021, 47.850916999999995], [-89.93545999999999, 47.850550999999996], [-89.933797, 47.849683], [-89.931829, 47.850186], [-89.9306270538796, 47.850092651576794], [-89.932959, 47.849543], [-89.93566899999999, 47.848299], [-89.9348726064498, 47.8476065425572], [-89.93671499999999, 47.848769999999995], [-89.937462, 47.849592], [-89.937021, 47.850916999999995]]], [[[-89.972028, 47.837868], [-89.971147, 47.838781999999995], [-89.970062, 47.838988], [-89.966296, 47.838898], [-89.9650820291765, 47.8386814100301], [-89.968396, 47.833987], [-89.968532, 47.834466], [-89.971077, 47.835539], [-89.971925, 47.836338], [-89.972028, 47.837868]]], [[[-90.34372599999999, 47.746339], [-90.341492, 47.748304], [-90.33912099999999, 47.749036], [-90.334007, 47.7481], [-90.334345, 47.745542], [-90.336744272401, 47.7450244363808], [-90.342235, 47.744878], [-90.34372599999999, 47.746339]]]], &quot;type&quot;: &quot;MultiPolygon&quot;}, &quot;id&quot;: &quot;662&quot;, &quot;properties&quot;: {&quot;AFFGEOID&quot;: &quot;1400000US27031990000&quot;, &quot;ALAND&quot;: 0, &quot;AWATER&quot;: 4185285338, &quot;COUNTYFP&quot;: &quot;031&quot;, &quot;GEOID&quot;: &quot;27031990000&quot;, &quot;LSAD&quot;: &quot;CT&quot;, &quot;NAME&quot;: &quot;9900&quot;, &quot;STATEFP&quot;: &quot;27&quot;, &quot;TRACTCE&quot;: &quot;990000&quot;}, &quot;type&quot;: &quot;Feature&quot;});\n",
       "\n",
       "        \n",
       "    \n",
       "            geo_json_46f1accc55f4060c8c4d2d60bf3e11a7.addTo(map_645747f7efceea034ee32d387306fba6);\n",
       "        \n",
       "&lt;/script&gt;\n",
       "&lt;/html&gt;\" style=\"position:absolute;width:100%;height:100%;left:0;top:0;border:none !important;\" allowfullscreen webkitallowfullscreen mozallowfullscreen></iframe></div></div>"
      ],
      "text/plain": [
       "<folium.folium.Map at 0x264630fa310>"
      ]
     },
     "execution_count": 26,
     "metadata": {},
     "output_type": "execute_result"
    }
   ],
   "source": [
    "fh = fiona.open('cb_2015_27_tract_500k\\cb_2015_27_tract_500k.shp','r')# look up to documentation, looking at the return for output\n",
    "\n",
    "m = folium.Map(location = [45.00, -98.78], zoom_start = 6)\n",
    "\n",
    "smallest_land_area = None\n",
    "\n",
    "smallest_feature = None \n",
    "\n",
    "for f in fh: #this process progresses, and replace each time when there are smaller land areas. \n",
    "    land_area = f['properties']['ALAND']\n",
    "\n",
    "    if smallest_land_area == None:\n",
    "        print(\"smallest land area is none, replacing with=\", land_area)\n",
    "        smallest_land_area = land_area\n",
    "        smallest_feature = f\n",
    "\n",
    "\n",
    "    #if current land area is smaller, replace smallest land area. \n",
    "    if land_area < smallest_land_area:\n",
    "        smallest_land_area = land_area\n",
    "        smallest_feature = f\n",
    "\n",
    "print(\"smallest feature =\", smallest_feature)\n",
    "print(\"smallest_land_area =\", smallest_land_area)\n",
    "\n",
    "j = json.dumps(fiona.model.to_dict(smallest_feature)) #!!! dump the GeoJSON from the feature\n",
    "folium.features.GeoJson(j).add_to(m)\n",
    "\n",
    "fh.close()\n",
    "m"
   ]
  },
  {
   "cell_type": "code",
   "execution_count": 3,
   "metadata": {},
   "outputs": [],
   "source": [
    "import rasterio\n"
   ]
  }
 ],
 "metadata": {
  "kernelspec": {
   "display_name": "geocomp",
   "language": "python",
   "name": "python3"
  },
  "language_info": {
   "codemirror_mode": {
    "name": "ipython",
    "version": 3
   },
   "file_extension": ".py",
   "mimetype": "text/x-python",
   "name": "python",
   "nbconvert_exporter": "python",
   "pygments_lexer": "ipython3",
   "version": "3.11.5"
  }
 },
 "nbformat": 4,
 "nbformat_minor": 2
}
